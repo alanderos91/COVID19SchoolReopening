{
  "cells": [
    {
      "cell_type": "markdown",
      "source": [
        "# Packages"
      ],
      "metadata": {}
    },
    {
      "outputs": [],
      "cell_type": "code",
      "source": [
        "using LinearAlgebra\nusing DifferentialEquations, DiffEqCallbacks\nusing COVID19SchoolReopening\nusing ProgressMeter\nusing PyPlot, LaTeXStrings\nusing CSV, DataFrames, Statistics\n\nconst CSR = COVID19SchoolReopening\n\nrcParams = PyPlot.PyDict(PyPlot.matplotlib.\"rcParams\")\nrcParams[\"axes.grid\"] = true\nrcParams[\"font.size\"] = 12"
      ],
      "metadata": {},
      "execution_count": null
    },
    {
      "cell_type": "markdown",
      "source": [
        "# Model Parameters"
      ],
      "metadata": {}
    },
    {
      "outputs": [],
      "cell_type": "code",
      "source": [
        "# length of simulation, translated from months to days (model time scale)\nmonths = 6\ndays = months * CSR.DAYS_PER_MONTH\nweeks = Int(round(Int, days / 7))\ntspan = (0, days*1.0);"
      ],
      "metadata": {},
      "execution_count": null
    },
    {
      "outputs": [],
      "cell_type": "code",
      "source": [
        "# assuming model time in days\n\n# cohort interaction, between 0 and 1\nα = 0.05 * ones(3, 3)\nα[1,1] = 1      # cohort 1\nα[2,2] = 1      # cohort 2\nα[3,3] = 1      # cohort 3\n\n# latent period, time between exposure time and beginning of infectious period\nσ = zeros(2)\nσ[1] = 1/(3)     # children, 3 days\nσ[2] = 1/(3)     # adults, 3 days\n\n# removal rate, 'recovery' from infectious state to non-infectious\nγ = zeros(2)\nγ[1] = 1/(4)    # child recovery rate, 4 days\nγ[2] = 1/(4)    # adult recovery rate, 4 days\n\n# baseline transmission rates\nβ0 = 1.2\nF = [\n    0.1     0.25    # child to j\n    0.15    0.5     # adult to j\n]\nβ = β0 * F\n\n# population: [children, adults]\ndemographics = [22., 78.]\ntotal_infected = 2.0\ninfected = [10., 90.]\n\nparams = (α, σ, γ);"
      ],
      "metadata": {},
      "execution_count": null
    },
    {
      "cell_type": "markdown",
      "source": [
        "# Plot settings"
      ],
      "metadata": {}
    },
    {
      "outputs": [],
      "cell_type": "code",
      "source": [
        "rcParams[\"axes.grid\"] = false\nrcParams[\"axes.facecolor\"] = \"1.0\"\n\nlevels = 0:10:100\nbounds = levels\ncmap = get_cmap(\"viridis\", length(bounds))\ncnorm = PyPlot.matplotlib.colors.BoundaryNorm(boundaries=bounds, ncolors=cmap.N)"
      ],
      "metadata": {},
      "execution_count": null
    },
    {
      "cell_type": "markdown",
      "source": [
        "# Additional parameters"
      ],
      "metadata": {}
    },
    {
      "outputs": [],
      "cell_type": "code",
      "source": [
        "# other parameters\nmultiplier = 10.0\n\n# input - ranges for parameters we will vary\nproportion_children = range(0.0, 60.0, step=2.0)\ninitial_infected = range(0.0, 10.0, step=0.5)\nm = length(proportion_children)\nn = length(initial_infected)\n\n# make sure x and y axis are set correctly later in plotting\nxrange = initial_infected\nyrange = proportion_children\n\n# output - prevalence I + R\nchild_prevalence = [zeros(m, n) for _ in 1:2]\nadult_prevalence = [zeros(m, n) for _ in 1:2]"
      ],
      "metadata": {},
      "execution_count": null
    },
    {
      "cell_type": "markdown",
      "source": [
        "# Fig S5: Influence of demography and initial infected on prevalence (no testing)\n\n##### 1 cohort (full capacity)"
      ],
      "metadata": {}
    },
    {
      "outputs": [],
      "cell_type": "code",
      "source": [
        "nclasses = 2\nncohorts = 1\n\n# create problem matrix\nprob_matrix = Array{Any}(undef, m, n)\nfor (j, total_infected) in enumerate(initial_infected), (i, children) in enumerate(proportion_children)\n    prob_matrix[i,j] = make_model_instance(nclasses, ncohorts, tspan, β, deepcopy(params),\n                mult=multiplier,\n                demographics=[children, 100-children],\n                total_infected=total_infected,\n                infected=infected,\n    )\nend\n\n@showprogress for (ix, prob) in enumerate(prob_matrix)\n    sol = solve(prob)\n    q = dropdims(sum(prob.u0, dims=(1,3)), dims=(1,3))\n    child_prevalence[1][ix] = sum(sol.u[end][i,1,k] for i in 2:4, k in 1:ncohorts) * 100 ./ (q[1] == 0 ? 1.0 : q[1])\n    adult_prevalence[1][ix] = sum(sol.u[end][i,2,k] for i in 2:4, k in 1:ncohorts) * 100 ./ (q[2] == 0 ? 1.0 : q[2])\nend"
      ],
      "metadata": {},
      "execution_count": null
    },
    {
      "cell_type": "markdown",
      "source": [
        "##### 2 cohorts (rotating)"
      ],
      "metadata": {}
    },
    {
      "outputs": [],
      "cell_type": "code",
      "source": [
        "nclasses = 2\nncohorts = 2\n\n# create problem matrix\nprob_matrix = Array{Any}(undef, m, n)\nfor (j, total_infected) in enumerate(initial_infected), (i, children) in enumerate(proportion_children)\n    prob_matrix[i,j] = make_model_instance(nclasses, ncohorts, tspan, β, deepcopy(params),\n                mult=multiplier,\n                demographics=[children, 100-children],\n                total_infected=total_infected,\n                infected=infected,\n    )\nend\n\n@showprogress for (ix, prob) in enumerate(prob_matrix)\n    sol = solve(prob, saveat=1.0)\n    q = dropdims(sum(prob.u0, dims=(1,3)), dims=(1,3))\n    child_prevalence[2][ix] = sum(sol.u[end][i,1,k] for i in 2:4, k in 1:ncohorts) * 100 ./ (q[1] == 0 ? 1.0 : q[1])\n    adult_prevalence[2][ix] = sum(sol.u[end][i,2,k] for i in 2:4, k in 1:ncohorts) * 100 ./ (q[2] == 0 ? 1.0 : q[2])\nend"
      ],
      "metadata": {},
      "execution_count": null
    },
    {
      "outputs": [],
      "cell_type": "code",
      "source": [
        "# initialize figure\nfig, ax = plt.subplots(nrows=2, ncols=2)\nfig.add_subplot(frameon=false)\nplt.tick_params(labelcolor=\"none\", top=false, bottom=false, left=false, right=false)\nplt.xlabel(\"Proportion initially infected (%)\")\nplt.ylabel(\"Children in population (%)\")\n\nimg = ax[1].contourf(xrange, yrange, child_prevalence[1], levels=levels, cmap=cmap)\n# ax[1].plot(2, demographics[1], \"ro\")\n# ax[1].plot(0.1, demographics[1], \"wo\")\nax[1].set_title(\"Children - 1 cohort\")\n\nax[2].contourf(xrange, yrange, child_prevalence[2], levels=levels, cmap=cmap)\n# ax[2].plot(2, demographics[1], \"ro\")\n# ax[2].plot(0.1, demographics[1], \"wo\")\nax[2].set_title(\"Children - 2 cohorts\")\n\nax[3].contourf(xrange, yrange, adult_prevalence[1], levels=levels, cmap=cmap)\n# ax[3].plot(2, demographics[1], \"ro\")\n# ax[3].plot(0.1, demographics[1], \"wo\")\nax[3].set_title(\"Adults - 1 cohort\")\n\nax[4].contourf(xrange, yrange, adult_prevalence[2], levels=levels, cmap=cmap)\n# ax[4].plot(2, demographics[1], \"ro\")\n# ax[4].plot(0.1, demographics[1], \"wo\")\nax[4].set_title(\"Adults - 2 cohorts\")\n\n# add panel labels\nreindex = [1, 3, 2, 4]\nfor i in eachindex(ax)\n    ax[i].text(-0.05, 1.3, string('A'+(reindex[i]-1)), transform=ax[i].transAxes,\n      fontsize=16, fontweight=\"bold\", va=\"top\", ha=\"right\")\n    ax[i].xaxis.set_ticks(xrange[1]:1:xrange[end])\n    ax[i].yaxis.set_ticks(yrange[1]:10:yrange[end])\nend\n\n# settings for colorbar legend\ncb_ax = fig.add_axes([0.29, 0.02, 0.5, 0.03])\ncbar = fig.colorbar(img, cax=cb_ax, orientation=\"horizontal\", label=\"Prevalence at 6 months (%)\", norm=cnorm, boundaries=bounds)\ncbar.set_ticks(bounds)\n\nfig.tight_layout()\n\nPyPlot.savefig(\"../figures/S5_fig.png\", dpi=300, bbox_inches=\"tight\")\nPyPlot.savefig(\"../figures/S5_fig.tiff\", dpi=300, bbox_inches=\"tight\")\n\nfig"
      ],
      "metadata": {},
      "execution_count": null
    },
    {
      "cell_type": "markdown",
      "source": [
        "# Fig S6: Influence of demography and initial infected on prevalence (with testing)"
      ],
      "metadata": {}
    },
    {
      "outputs": [],
      "cell_type": "code",
      "source": [
        "school_days = 1:1.0:5\ntest_times = [(day-1) + 7*(week-1) + 1 for week in 1:weeks for day in school_days]\nsensitivity = 1.0\nisrotating = true"
      ],
      "metadata": {},
      "execution_count": null
    },
    {
      "cell_type": "markdown",
      "source": [
        "##### 1 cohort (full capacity)"
      ],
      "metadata": {}
    },
    {
      "outputs": [],
      "cell_type": "code",
      "source": [
        "nclasses = 2\nncohorts = 1\n\n# create problem matrix\nprob_matrix = Array{Any}(undef, m, n)\nfor (j, total_infected) in enumerate(initial_infected), (i, children) in enumerate(proportion_children)\n    prob_matrix[i,j] = make_model_instance(nclasses, ncohorts, tspan, β, deepcopy(params),\n                mult=multiplier,\n                demographics=[children, 100-children],\n                total_infected=total_infected,\n                infected=infected,\n    )\nend\n\n@showprogress for (ix, prob) in enumerate(prob_matrix)\n    cb_test = make_testing_policy_callback(test_times, Float64[],\n        sensitivity=sensitivity,\n        isrotating=isrotating\n    )\n    sol = solve(prob, callback=cb_test, userdata=Dict(:school_closed=>false))\n    q = dropdims(sum(prob.u0, dims=(1,3)), dims=(1,3))\n    child_prevalence[1][ix] = sum(sol.u[end][i,1,k] for i in 2:4, k in 1:ncohorts) * 100 ./ (q[1] == 0 ? 1.0 : q[1])\n    adult_prevalence[1][ix] = sum(sol.u[end][i,2,k] for i in 2:4, k in 1:ncohorts) * 100 ./ (q[2] == 0 ? 1.0 : q[2])\nend"
      ],
      "metadata": {},
      "execution_count": null
    },
    {
      "cell_type": "markdown",
      "source": [
        "##### 2 cohorts (rotating)"
      ],
      "metadata": {}
    },
    {
      "outputs": [],
      "cell_type": "code",
      "source": [
        "nclasses = 2\nncohorts = 2\n\n# create problem matrix\nprob_matrix = Array{Any}(undef, m, n)\nfor (j, total_infected) in enumerate(initial_infected), (i, children) in enumerate(proportion_children)\n    prob_matrix[i,j] = make_model_instance(nclasses, ncohorts, tspan, β, deepcopy(params),\n                mult=multiplier,\n                demographics=[children, 100-children],\n                total_infected=total_infected,\n                infected=infected,\n    )\nend\n\n@showprogress for (ix, prob) in enumerate(prob_matrix)\n    cb_test = make_testing_policy_callback(test_times, Float64[],\n        sensitivity=sensitivity,\n        isrotating=isrotating\n    )\n    sol = solve(prob, callback=cb_test, userdata=Dict(:school_closed=>false))\n    q = dropdims(sum(prob.u0, dims=(1,3)), dims=(1,3))\n    child_prevalence[2][ix] = sum(sol.u[end][i,1,k] for i in 2:4, k in 1:ncohorts) * 100 ./ (q[1] == 0 ? 1.0 : q[1])\n    adult_prevalence[2][ix] = sum(sol.u[end][i,2,k] for i in 2:4, k in 1:ncohorts) * 100 ./ (q[2] == 0 ? 1.0 : q[2])\nend"
      ],
      "metadata": {},
      "execution_count": null
    },
    {
      "outputs": [],
      "cell_type": "code",
      "source": [
        "# initialize figure\nfig, ax = plt.subplots(nrows=2, ncols=2)\nfig.add_subplot(frameon=false)\nplt.tick_params(labelcolor=\"none\", top=false, bottom=false, left=false, right=false)\nplt.xlabel(\"Proportion initially infected (%)\")\nplt.ylabel(\"Children in population (%)\")\n\nimg = ax[1].contourf(xrange, yrange, child_prevalence[1], levels=levels, cmap=cmap)\n# ax[1].plot(2, demographics[1], \"ro\")\n# ax[1].plot(0.1, demographics[1], \"wo\")\nax[1].set_title(\"Children - 1 cohort\")\n\nax[2].contourf(xrange, yrange, child_prevalence[2], levels=levels, cmap=cmap)\n# ax[2].plot(2, demographics[1], \"ro\")\n# ax[2].plot(0.1, demographics[1], \"wo\")\nax[2].set_title(\"Children - 2 cohorts\")\n\nax[3].contourf(xrange, yrange, adult_prevalence[1], levels=levels, cmap=cmap)\n# ax[3].plot(2, demographics[1], \"ro\")\n# ax[3].plot(0.1, demographics[1], \"wo\")\nax[3].set_title(\"Adults - 1 cohort\")\n\nax[4].contourf(xrange, yrange, adult_prevalence[2], levels=levels, cmap=cmap)\n# ax[4].plot(2, demographics[1], \"ro\")\n# ax[4].plot(0.1, demographics[1], \"wo\")\nax[4].set_title(\"Adults - 2 cohorts\")\n\n# add panel labels\nreindex = [1, 3, 2, 4]\nfor i in eachindex(ax)\n    ax[i].text(-0.05, 1.3, string('A'+(reindex[i]-1)), transform=ax[i].transAxes,\n      fontsize=16, fontweight=\"bold\", va=\"top\", ha=\"right\")\n    ax[i].xaxis.set_ticks(xrange[1]:1:xrange[end])\n    ax[i].yaxis.set_ticks(yrange[1]:10:yrange[end])\nend\n\n# settings for colorbar legend\ncb_ax = fig.add_axes([0.29, 0.02, 0.5, 0.03])\ncbar = fig.colorbar(img, cax=cb_ax, orientation=\"horizontal\", label=\"Prevalence at 6 months (%)\", norm=cnorm, boundaries=bounds)\ncbar.set_ticks(bounds)\n\nfig.tight_layout()\n\nPyPlot.savefig(\"../figures/S6_fig.png\", dpi=300, bbox_inches=\"tight\")\nPyPlot.savefig(\"../figures/S6_fig.tiff\", dpi=300, bbox_inches=\"tight\")\n\nfig"
      ],
      "metadata": {},
      "execution_count": null
    },
    {
      "cell_type": "markdown",
      "source": [
        "# Fig S1: Demographics from ACS-ED 2014-2018 Total Population, Demographic Characteristics (DP05)\n\nThis data set summarizes the distribution of individuals whose age is (i) under 18 years, or (ii) 18 and over across school districts in the United States."
      ],
      "metadata": {}
    },
    {
      "outputs": [],
      "cell_type": "code",
      "source": [
        "# background\nrcParams[\"axes.grid\"] = false\nrcParams[\"axes.facecolor\"] = \"0.90\"\n\n# read data\ndf = CSV.read(\"../data/ACS-ED_2014-2018_Total_Population _Demographic_Characteristics_(DP05).csv\", DataFrame)\ncolumn1 = :DP05_19P # % of total population that is under 18 years old\ncolumn2 = :DP05_21P # % of total population that is 18 and over\n\n# drop records with missing certain information\ncleandf = dropmissing(df, :NCESID)\nfilter!(:NAME => !contains(\"Not Defined\"), cleandf)\n\n# drop records that are possibly duplicates\nunique!(cleandf, :NCESID)\n\n# drop recores with negative entries for target column - indicates an annotation\nfilter!(column1 => ≥(0), cleandf)\nfilter!(column2 => ≥(0), cleandf)\n\n# visualize the data\nfig, ax = subplots()\n\ndata = cleandf[:, column1]\nax.hist(data, bins=51, label=\"under 18\")\nax.axvline(median(data), color=\"k\", linestyle=\"--\", alpha=0.4)\n\ndata = cleandf[:, column2]\nax.hist(data, bins=51, label=\"18 and over\")\nax.axvline(median(data), color=\"k\", linestyle=\"--\", alpha=0.4)\n\nax.grid(axis=\"y\")\nax.set_title(\"ACS-ED 2014-2018 Total Population: Demographic Characteristics (DP05)\")\nax.set_xlabel(\"Proportion of population (%)\")\nax.set_ylabel(\"Count\")\nax.legend()\n\nPyPlot.savefig(\"../figures/S1_fig.png\", dpi=300, bbox_inches=\"tight\")\nPyPlot.savefig(\"../figures/S1_fig.tiff\", dpi=300, bbox_inches=\"tight\")\n\nfig"
      ],
      "metadata": {},
      "execution_count": null
    },
    {
      "cell_type": "markdown",
      "source": [
        "# Appendix"
      ],
      "metadata": {}
    },
    {
      "outputs": [],
      "cell_type": "code",
      "source": [
        "PyPlot.close_figs()"
      ],
      "metadata": {},
      "execution_count": null
    },
    {
      "outputs": [],
      "cell_type": "code",
      "source": [
        "using InteractiveUtils; versioninfo()"
      ],
      "metadata": {},
      "execution_count": null
    },
    {
      "outputs": [],
      "cell_type": "code",
      "source": [
        "using Pkg; Pkg.status()"
      ],
      "metadata": {},
      "execution_count": null
    }
  ],
  "nbformat_minor": 2,
  "metadata": {
    "language_info": {
      "file_extension": ".jl",
      "mimetype": "application/julia",
      "name": "julia",
      "version": "1.5.3"
    },
    "kernelspec": {
      "name": "julia-1.5",
      "display_name": "Julia 1.5.3",
      "language": "julia"
    }
  },
  "nbformat": 4
}
