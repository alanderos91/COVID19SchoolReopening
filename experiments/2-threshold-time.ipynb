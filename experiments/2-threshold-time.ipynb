{
  "cells": [
    {
      "cell_type": "markdown",
      "source": [
        "# Packages"
      ],
      "metadata": {}
    },
    {
      "outputs": [],
      "cell_type": "code",
      "source": [
        "using LinearAlgebra\nusing DifferentialEquations, COVID19SchoolReopening\nusing PyPlot, LaTeXStrings\nusing ProgressMeter\n\nconst CSR = COVID19SchoolReopening\n\nrcParams = PyPlot.PyDict(PyPlot.matplotlib.\"rcParams\")\nrcParams[\"axes.grid\"] = true\nrcParams[\"font.size\"] = 12"
      ],
      "metadata": {},
      "execution_count": null
    },
    {
      "cell_type": "markdown",
      "source": [
        "# Model Parameters"
      ],
      "metadata": {}
    },
    {
      "outputs": [],
      "cell_type": "code",
      "source": [
        "# length of simulation, translated from months to days (model time scale)\nmonths = 6\ndays = months * CSR.DAYS_PER_MONTH\nweeks = Int(round(Int, days / 7))\ntspan = (0, days*1.0);"
      ],
      "metadata": {},
      "execution_count": null
    },
    {
      "outputs": [],
      "cell_type": "code",
      "source": [
        "# assuming model time in days\n\n# cohort interaction, between 0 and 1\nα = 0.05 * ones(3, 3)\nα[1,1] = 1      # cohort 1\nα[2,2] = 1      # cohort 2\nα[3,3] = 1      # cohort 3\n\n# latent period, time between exposure time and beginning of infectious period\nσ = zeros(2)\nσ[1] = 1/(3)     # children, 3 days\nσ[2] = 1/(3)     # adults, 3 days\n\n# removal rate, 'recovery' from infectious state to non-infectious\nγ = zeros(2)\nγ[1] = 1/(4)    # child recovery rate, 4 days\nγ[2] = 1/(4)    # adult recovery rate, 4 days\n\n# baseline transmission rates\nβ0 = 1.2\nF = [\n    0.1     0.25    # child to j\n    0.15    0.5     # adult to j\n]\nβ = β0 * F\n\n# population: [children, adults]\ndemographics = [22., 78.]\ntotal_infected = 2.0\ninfected = [10., 90.]\n\nparams = (α, σ, γ);"
      ],
      "metadata": {},
      "execution_count": null
    },
    {
      "outputs": [],
      "cell_type": "code",
      "source": [
        "function get_compartment(u, i, j)\n    c = zero(eltype(u))\n\n    # iterate over cohorts\n    for k in 1:size(u, 3)\n        c += max(0, u[i,j,k])\n    end\n    return c\nend\n\nsusceptible_child_fraction(u) = get_compartment(u, 1, 1)\ninfected_child_fraction(u) = get_compartment(u, 3, 1)\nremoved_child_fraction(u) = get_compartment(u, 4, 1)\ncumulative_child_fraction(u) = infected_child_fraction(u) + removed_child_fraction(u)\n\nsusceptible_adult_fraction(u) = get_compartment(u, 1, 2)\ninfected_adult_fraction(u) = get_compartment(u, 3, 2)\nremoved_adult_fraction(u) = get_compartment(u, 4, 2)\ncumulative_adult_fraction(u) = infected_adult_fraction(u) + removed_adult_fraction(u)"
      ],
      "metadata": {},
      "execution_count": null
    },
    {
      "cell_type": "markdown",
      "source": [
        "# Fig 3: Interaction between multiplier, initial infected, and cohort strategy\n\nMultiple cohorts, increased contact rates on school days (see `TransmissionRate`).\n\n### Testing policy\n\n- Test every day, at the beginning of the day.\n- Testing applies only to children attending school that day.\n- Identified cases become removed as determined by test sensitivity."
      ],
      "metadata": {}
    },
    {
      "outputs": [],
      "cell_type": "code",
      "source": [
        "# testing sensitivity, policy threshold, and window size\nsensitivity = 1.0\nthreshold = 0.05\nwindow = 14\n\n# assume order of magnitude increase in child-child contact\nmultiplier = 10.0\n\n# testing times - school days only; applies to active cohort\nschool_days = 1:1.0:5\ntest_times = [(day-1) + 7*(week-1) + 1 for week in 1:weeks for day in school_days]"
      ],
      "metadata": {},
      "execution_count": null
    },
    {
      "cell_type": "markdown",
      "source": [
        "**Note**: This assumes a population mix of 22% school-age children."
      ],
      "metadata": {}
    },
    {
      "outputs": [],
      "cell_type": "code",
      "source": [
        "infected_range = range(0.0, 10.0, length=201)\nmultiplier_range = [1, 2, 10]\n\nxrange = multiplier_range\nyrange = infected_range\n\nm = length(yrange)\nn = length(xrange)\n\nnclasses = 2\nncohorts = 3\n\nt_thresh = [zeros(m, n) for _ in 1:ncohorts+1]"
      ],
      "metadata": {},
      "execution_count": null
    },
    {
      "outputs": [],
      "cell_type": "code",
      "source": [
        "# scenario parameters\nisrotating = true\n\nfor k in 1:ncohorts\n    # generate problems with different parameter values\n    prob_matrix = Array{Any}(undef, m, n)\n\n    for (j, mult) in enumerate(xrange), (i, total_infected) in enumerate(yrange)\n        beta = β0 * F\n        prob_matrix[i,j] = make_model_instance(nclasses, k, tspan, beta, params,\n            mult=mult,\n            demographics=demographics,\n            total_infected=total_infected,\n            infected=infected,\n        )\n    end\n\n    #\n    # solve the ODE for different parameter values\n    # save data for each day\n    #\n    @showprogress \"Simulation for $(k) cohort(s)... \" for (ix, prob) in enumerate(prob_matrix)\n        detected = sizehint!(Float64[], length(test_times))\n        cb_test = make_testing_policy_callback(test_times, detected,\n            sensitivity=sensitivity,\n            isrotating=isrotating,\n        )\n        sol = solve(prob, callback=cb_test, userdata=Dict(:school_closed=>false))\n\n        # extract 14-day window infection data\n        offset = window-1\n        x = [ sum(detected[max(1,i-window):i]) for i in eachindex(detected) ]\n\n        # find time to hit threshold\n        index = findfirst(≥(demographics[1]/sum(demographics)*threshold), x)\n        t_thresh[k][ix] = isnothing(index) ? tspan[end] : test_times[index]\n    end\nend"
      ],
      "metadata": {},
      "execution_count": null
    },
    {
      "outputs": [],
      "cell_type": "code",
      "source": [
        "isrotating = false\n\n# generate problems with different parameter values\nprob_matrix = Array{Any}(undef, m, n)\n\nfor (j, mult) in enumerate(xrange), (i, total_infected) in enumerate(yrange)\n    beta = β0 * F\n    prob_matrix[i,j] = make_model_instance(nclasses, 2, tspan, beta, params,\n        mult=mult,\n        demographics=demographics,\n        total_infected=total_infected,\n        infected=infected,\n    )\nend\n\n#\n# solve the ODE for different parameter values\n# save data for each day\n#\n@showprogress \"Simulation for 2 parallel cohorts... \" for (ix, prob) in enumerate(prob_matrix)\n    # only the first cohort attends school in person\n    cohort_β = prob.p[4]\n\n    # cohort 1 --- in-person\n    ratef = cohort_β[1][1,1]\n    cohort_β[1][1,1] = TransmissionRate(ratef.cmax, ratef.cmin, ratef.start, ratef.stop, K=ratef.K)\n\n    # cohort 2 --- remote learning\n    ratef = cohort_β[2][1,1]\n    cohort_β[2][1,1] = TransmissionRate(ratef.cmin, ratef.cmin, ratef.start, ratef.stop, K=ratef.K)\n\n    # run the simulation\n    detected = sizehint!(Float64[], length(test_times))\n    cb_test = make_testing_policy_callback(test_times, detected,\n        sensitivity=sensitivity,\n        isrotating=isrotating,\n    )\n    sol = solve(prob, callback=cb_test, userdata=Dict(:school_closed=>false))\n\n    # extract 14-day window infection data\n    offset = window-1\n    x = [ sum(detected[max(1,i-window):i]) for i in eachindex(detected) ]\n\n    # find time to hit threshold\n    index = findfirst(≥(demographics[1]/sum(demographics)*threshold), x)\n    t_thresh[4][ix] = isnothing(index) ? tspan[end] : test_times[index]\nend"
      ],
      "metadata": {},
      "execution_count": null
    },
    {
      "outputs": [],
      "cell_type": "code",
      "source": [
        "# background\nrcParams[\"axes.grid\"] = false\nrcParams[\"axes.facecolor\"] = \"0.90\"\n\nfig, axes = subplots(nrows=2, ncols=2, figsize=[8, 8])\nlinestyle = [\"-\", \"--\", \":\"]\ntitlestr = [\"1 cohort\", \"2 cohorts (rotating)\", \"3 cohorts\", \"2 cohorts (parallel)\"]\n\nreindex = [1,3,2,4]\n\nfor (k, ax) in enumerate(axes)\n    for j in 1:length(multiplier_range)\n        data = @views t_thresh[reindex[k]][:,j] ./ 7\n        ix = findfirst(<(26), data)\n        ax.plot(infected_range, data, linestyle=linestyle[j], lw=2.5)\n        # if !isnothing(ix)\n        #     ax.scatter(infected_range[ix], data[ix], marker=\"x\", color=\"k\", s=128.0)\n        # end\n    end\n    # modify y axis to reflect truncated data\n    ax.yaxis.set_ticks(0:2:26)\n    ax.yaxis.set_ticklabels([string.(0:2:24); \">26\"])\n\n    # set labels\n    ax.set_title(titlestr[reindex[k]])\n    ax.set_xlabel(\"Proportion initially infected (%)\")\n    ax.set_ylabel(\"Weeks after reopening\")\n\n    # panel labels\n    ax.text(-0.04, 1.075, string('A'+(reindex[k]-1)), transform=ax.transAxes,\n      fontsize=16, fontweight=\"bold\", va=\"top\", ha=\"right\")\nend\n\nfig.legend(\n    title=\"Contact multiplier\",\n    [L\"\\times~\" * \"$(c)\" for c in multiplier_range],\n    bbox_to_anchor=(0.35, -0.05, 1.02, 0),\n    loc=\"lower left\",\n    borderaxespad=0,\n    frameon=false,\n    ncol=3)\nfig.tight_layout()\n\nPyPlot.savefig(\"../figures/Fig3.png\", dpi=300, bbox_inches=\"tight\")\nPyPlot.savefig(\"../figures/Fig3.tiff\", dpi=300, bbox_inches=\"tight\")\n\nfig"
      ],
      "metadata": {},
      "execution_count": null
    },
    {
      "cell_type": "markdown",
      "source": [
        "### Fig S4: Interactions between demography and proportion infected"
      ],
      "metadata": {}
    },
    {
      "outputs": [],
      "cell_type": "code",
      "source": [
        "children_percent = range(0, 60, length=61)\nchildren_infected = range(0.0, 50, length=51)\ninfected_range = [1e-1, 1e0, 5e0, 1e1]\n\nm = length(children_percent)\nn = length(children_infected)"
      ],
      "metadata": {},
      "execution_count": null
    },
    {
      "outputs": [],
      "cell_type": "code",
      "source": [
        "# scenario parameters\nnclasses = 2\nncohorts = 2\nrun_parallel = true\nt_thresh = [zeros(m, n) for _ in 1:ncohorts+run_parallel, _ in 1:length(infected_range)]\n\nfor (l, initial_infected) in enumerate(infected_range), k in 1:ncohorts+run_parallel\n    # generate problems with different parameter values\n    prob_matrix = Array{Any}(undef, m, n)\n    cohort_count = min(ncohorts, k)\n\n    for (j, c_infected) in enumerate(children_infected), (i, c_percent) in enumerate(children_percent)\n        beta = β0 * F\n        demos = [c_percent, 100-c_percent]\n        prob_matrix[i,j] = make_model_instance(nclasses, cohort_count, tspan, beta, params,\n            mult=multiplier,\n            demographics=demos,\n            total_infected=initial_infected,\n            infected=[c_infected, 100-c_infected],\n        )\n    end\n\n    #\n    # solve the ODE for different parameter values\n    # save data for each day\n    #\n    if k ≤ ncohorts\n        message = \"Simulation for $(k) cohort(s), $(initial_infected)% infected \"\n    else\n        message = \"Simulation for 2 parallel cohorts, $(initial_infected)% infected \"\n    end\n\n    @showprogress message for (ix, prob) in enumerate(prob_matrix)\n        if k ≤ ncohorts\n            isrotating = true\n        else\n            isrotating = false\n            # only the first cohort attends school in person\n            cohort_β = prob.p[4]\n\n            # cohort 1 --- in-person\n            ratef = cohort_β[1][1,1]\n            cohort_β[1][1,1] = TransmissionRate(ratef.cmax, ratef.cmin, ratef.start, ratef.stop, K=ratef.K)\n\n            # cohort 2 --- remote learning\n            ratef = cohort_β[2][1,1]\n            cohort_β[2][1,1] = TransmissionRate(ratef.cmin, ratef.cmin, ratef.start, ratef.stop, K=ratef.K)\n        end\n\n        detected = sizehint!(Float64[], length(test_times))\n        cb_test = make_testing_policy_callback(test_times, detected,\n            sensitivity=sensitivity,\n            isrotating=isrotating,\n        )\n        sol = solve(prob, callback=cb_test, userdata=Dict(:school_closed=>false))\n\n        # adjust for population demographics\n        demos = dropdims(sum(prob.u0, dims=(1,3)), dims=(1,3))\n\n        # extract 14-day window infection data\n        offset = window-1\n        x = [ sum(detected[max(1,i-window):i]) for i in eachindex(detected) ]\n\n        # find time to hit threshold\n        index = findfirst(≥(demos[1]/sum(demos)*threshold), x)\n        t_thresh[k,l][ix] = isnothing(index) ? Inf : test_times[index]\n    end\nend"
      ],
      "metadata": {},
      "execution_count": null
    },
    {
      "outputs": [],
      "cell_type": "code",
      "source": [
        "rcParams[\"axes.grid\"] = false\nrcParams[\"axes.facecolor\"] = \"1.0\"\n\nnrows = ncohorts+run_parallel\nncols = length(infected_range)\nfig, axes = subplots(nrows=nrows, ncols=ncols, figsize=[4*ncols, 4*nrows])\n\n# add separate axis to unify labels\nfig.add_subplot(frameon=false)\nplt.tick_params(labelcolor=\"none\", top=false, bottom=false, left=false, right=false)\nplt.xlabel(\"Infected children at reopening (%)\")\nplt.ylabel(\"Children in population (%)\")\n\nimg = []\nfor (k, ax) in enumerate(axes)\n    iii = ax.contourf(children_infected, children_percent, round.(t_thresh[k] ./ 7),\n        levels=0:2:26,\n        extend=\"max\",\n        vmin=0,\n        vmax=26,\n        cmap=get_cmap(\"viridis_r\")\n    )\n    push!(img, iii)\nend\n\n# add labels for columns\nfor (l, percent) in enumerate(infected_range)\n    ax = axes[nrows*(l-1)+1]\n    ax.set_title(\"$(percent)% infected at reopening\")\nend\n\n# add labels for rows\nfor k in 1:size(t_thresh,1)\n    ax = axes[k]\n    if k ≤ ncohorts\n        label = string(\"$(k) \", k == 1 ? \"cohort\" : \"cohorts (rotating)\")\n    else\n        label = \"$(ncohorts) cohorts (parallel)\"\n    end\n    ypos = k == 1 ? 0.4 : 0.2\n    ax.text(-0.3, ypos, label, rotation=90, transform=ax.transAxes, fontsize=16)\nend\n\n# add color bar\ncb_ax = fig.add_axes([0.27, 0.0, 0.5, 0.02])\ncbar = fig.colorbar(img[1], cax=cb_ax, orientation=\"horizontal\", label=\"weeks since reopening\")#, norm=cnorm, boundaries=bounds)\ncbar.set_ticks(0:2:26)\n\nfig.tight_layout()\n\nPyPlot.savefig(\"../figures/S4_fig.png\", dpi=300, bbox_inches=\"tight\")\nPyPlot.savefig(\"../figures/S4_fig.tiff\", dpi=300, bbox_inches=\"tight\")\n\nfig"
      ],
      "metadata": {},
      "execution_count": null
    },
    {
      "cell_type": "markdown",
      "source": [
        "# Figure 4: Threshold policy\n\nSingle cohort, close down schools upon hitting 5% infections in children"
      ],
      "metadata": {}
    },
    {
      "outputs": [],
      "cell_type": "code",
      "source": [
        "# not really needed anymore\nscale_percent(t, x) = (t, scale_percent(x))\nscale_percent(x) = x * 100\n\n# recording data\nfunction record_figure_data!(data, sol, detected, threshold, window, test_times, demographics)\n    # shorthand\n    q = demographics / sum(demographics)\n    ts = sol.t\n    u = sol.u\n\n    # find threshold time\n    x = [ sum(detected[max(1,i-window):i]) for i in eachindex(detected) ]\n    index = findfirst(≥(q[1]*threshold), x)\n    t_thresh = isnothing(index) ? sol.prob.tspan[end] : test_times[index]\n\n    # time points in solution\n    push!(data.ts, sol.t)\n\n    # child data\n    push!(data.child_susceptible, scale_percent.(susceptible_child_fraction.(u)) ./ q[1])\n    push!(data.child_infected,    scale_percent.(infected_child_fraction.(u)) ./q[1])\n    push!(data.child_removed,     scale_percent.(removed_child_fraction.(u)) ./ q[1])\n    push!(data.child_detected,    scale_percent.(x) ./ q[1])\n\n    push!(data.t_thresh,          t_thresh)\n\n    push!(data.adult_susceptible, scale_percent.(susceptible_adult_fraction.(u)) ./ q[2])\n    push!(data.adult_infected,    scale_percent.(infected_adult_fraction.(u)) ./ q[2])\n    push!(data.adult_removed,     scale_percent.(removed_adult_fraction.(u)) ./ q[2])\n\n    return nothing\nend"
      ],
      "metadata": {},
      "execution_count": null
    },
    {
      "outputs": [],
      "cell_type": "code",
      "source": [
        "# policy parameters\nsensitivity_tested = [1.0, 0.5]\n\n# simulation parameters\nnclasses = 2\nncohorts = 1\ntotal_infected = 2.0\n\n# allocate outputs\ndata = (\n    ts                = Vector{Float64}[], # time axis\n    child_infected    = Vector{Float64}[], # sum_k I_1k\n    child_susceptible = Vector{Float64}[], # sum_k S_1k\n    child_removed     = Vector{Float64}[], # sum_k R_1k\n    child_detected    = Vector{Float64}[], # 14-window criterion\n    t_thresh          = Float64[],         # threshold time\n    adult_infected    = Vector{Float64}[], # sum_k I_2k\n    adult_susceptible = Vector{Float64}[], # sum_k S_2k\n    adult_removed     = Vector{Float64}[], # sum_k R_2k\n)\n\n# closure to make things easier\nrecord_figure_data!(data, sol, detected) = record_figure_data!(data, sol, detected, threshold, window, test_times, demographics)\n\n#\n# TOP: no intervention\n#\ndetected_cases = Float64[]\n\nprob = make_model_instance(nclasses, ncohorts, tspan, β, params,\n    mult=multiplier,\n    demographics=demographics,\n    total_infected=total_infected,\n    infected=infected,\n)\nsol = solve(prob)\n\n# record data\nrecord_figure_data!(data, sol, detected_cases)\n\n#\n# MIDDLE: with intervention, perfect detection\n#\ndetected_cases = Float64[]\ncb_test, cb_threshold, cbs = make_threshold_policy_callbacks(test_times, detected_cases,\n    sensitivity=sensitivity_tested[1],\n    isrotating=true,\n    threshold=threshold,\n    window=window,\n)\nprob = make_model_instance(nclasses, ncohorts, tspan, β, params,\n    mult=multiplier,\n    demographics=demographics,\n    total_infected=total_infected,\n    infected=infected,\n)\nsol = solve(prob, callback=cbs, userdata=Dict(:school_closed=>false))\n\n# record data\nrecord_figure_data!(data, sol, detected_cases)\n\n#\n# BOTTOM: with intervention, 50% detection\n#\ndetected_cases = Float64[]\ncb_test, cb_threshold, cbs = make_threshold_policy_callbacks(test_times, detected_cases,\n    sensitivity=sensitivity_tested[2],\n    isrotating=true,\n    threshold=threshold,\n    window=window,\n)\nprob = make_model_instance(nclasses, ncohorts, tspan, β, params,\n    mult=multiplier,\n    demographics=demographics,\n    total_infected=total_infected,\n    infected=infected,\n)\nsol = solve(prob, callback=cbs, userdata=Dict(:school_closed=>false))\n\n# record data\nrecord_figure_data!(data, sol, detected_cases)"
      ],
      "metadata": {},
      "execution_count": null
    },
    {
      "outputs": [],
      "cell_type": "code",
      "source": [
        "# background\nrcParams[\"axes.grid\"] = false\nrcParams[\"axes.facecolor\"] = \"0.90\"\n\nfig, ax = subplots(figsize=[3*3.0, 2*4], nrows=4)\n\nfig.add_subplot(frameon=false)\nplt.tick_params(labelcolor=\"none\", top=false, bottom=false, left=false, right=false)\nplt.xlabel(\"Weeks after reopening\")\nplt.ylabel(\"Proportion (%)\")\n\ncommon_xticks = 0:14:tspan[end] # show every two weeks\ncommon_xtickl = string.(Int.(common_xticks .÷ 7))\n\nymin = 0.0\nymax = 8.0\n\n##### no intervention ####\n\nfor i in eachindex(data.ts)\n    # 1,1 -- infections in children\n    x = data.child_detected[i]\n    ax[1].plot(data.ts[i], data.child_infected[i], \"-\", color=\"C$(i-1)\", lw=1.5)\n    ax[1].plot(test_times[1:length(x)], x, \"--\", color=\"C$(i-1)\", lw=3)\n    (i > 1) && ax[1].axvline(data.t_thresh[i], linestyle=\":\", color=\"C$(i-1)\")\n\n    # 1,2 -- susceptible & removed in children\n    ax[2].plot(data.ts[i], data.child_susceptible[i], \"-\", color=\"C$(i-1)\", lw=1.5)\n\n    # 2,1 -- infections in adults\n    ax[3].plot(data.ts[i], data.adult_infected[i], \"-\", color=\"C$(i-1)\", lw=1.5)\n\n    # 2,2 -- susceptible & removed in adults\n    ax[4].plot(data.ts[i], data.child_susceptible[i], \"-\", color=\"C$(i-1)\", lw=1.5)\nend\n\nfor i in eachindex(ax)\n    ax[i].xaxis.set_ticks(common_xticks)\n    ax[i].xaxis.set_ticklabels(common_xtickl)\n    if (i % 2 == 0)\n        ax[i].set_ylim(20, 105)\n        ax[i].set_yticks(20:20:100)\n    end\n    if (i % 2 == 1)\n        ax[i].set_ylim(0, 10.0)\n        ax[i].set_yticks(0:2:10)\n    end\nend\n\nax[1].set_title(\"Infections (children)\")\nax[2].set_title(\"Susceptibles (children)\")\nax[3].set_title(\"Infections (adults)\")\nax[4].set_title(\"Susceptibles (adults)\")\n\n# add figure legend\nartist_c0 = plt.Line2D((0,1), (0,0), color=\"C0\")\nartist_c1 = plt.Line2D((0,1), (0,0), color=\"C1\")\nartist_c2 = plt.Line2D((0,1), (0,0), color=\"C2\")\n\nartist_solid = plt.Line2D((0,1), (0,0), color=\"k\", linestyle=\"-\")\nartist_dash = plt.Line2D((0,1), (0,0), color=\"k\", linestyle=\"--\")\n\nfig.legend(\n    (artist_c0, artist_c1, artist_c2, artist_solid, artist_dash),\n    (\"no intervention\", \"100% detection\", \"50% detection\", latexstring(\"total \", L\"I(t)\"), \"detected\"),\n    bbox_to_anchor=(0.025,-0.0,0.5,0),\n    loc=\"lower left\",\n    borderaxespad=0.0,\n    frameon=false,\n    ncol=5)\nfig.subplots_adjust(bottom=0.09)\n\n# add labels to each subplot\nfor i in eachindex(ax)\n    ax[i].text(-0.01, 1.25, string('A'+(i-1)), transform=ax[i].transAxes,\n      fontsize=16, fontweight=\"bold\", va=\"top\", ha=\"right\")\n    ax[i].grid(axis=\"y\")\nend\n\nfig.tight_layout()\n\nPyPlot.savefig(\"../figures/Fig4.png\", dpi=300, bbox_inches=\"tight\")\nPyPlot.savefig(\"../figures/Fig4.tiff\", dpi=300, bbox_inches=\"tight\")\n\nfig"
      ],
      "metadata": {},
      "execution_count": null
    },
    {
      "cell_type": "markdown",
      "source": [
        "# Appendix"
      ],
      "metadata": {}
    },
    {
      "outputs": [],
      "cell_type": "code",
      "source": [
        "PyPlot.close_figs()"
      ],
      "metadata": {},
      "execution_count": null
    },
    {
      "outputs": [],
      "cell_type": "code",
      "source": [
        "using InteractiveUtils; versioninfo()"
      ],
      "metadata": {},
      "execution_count": null
    },
    {
      "outputs": [],
      "cell_type": "code",
      "source": [
        "using Pkg; Pkg.status()"
      ],
      "metadata": {},
      "execution_count": null
    }
  ],
  "nbformat_minor": 2,
  "metadata": {
    "language_info": {
      "file_extension": ".jl",
      "mimetype": "application/julia",
      "name": "julia",
      "version": "1.5.3"
    },
    "kernelspec": {
      "name": "julia-1.5",
      "display_name": "Julia 1.5.3",
      "language": "julia"
    }
  },
  "nbformat": 4
}
