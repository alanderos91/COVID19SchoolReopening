{
  "cells": [
    {
      "cell_type": "markdown",
      "source": [
        "# Packages"
      ],
      "metadata": {}
    },
    {
      "outputs": [],
      "cell_type": "code",
      "source": [
        "using LinearAlgebra\nusing DifferentialEquations, COVID19SchoolReopening\nusing PyPlot, LaTeXStrings\n\n# need to import mpltern to get access to ternary plots\nPyPlot.PyCall.pyimport(\"mpltern\")\n\nconst CSR = COVID19SchoolReopening\n\nrcParams = PyPlot.PyDict(PyPlot.matplotlib.\"rcParams\")\nrcParams[\"axes.grid\"] = true\nrcParams[\"font.size\"] = 12"
      ],
      "metadata": {},
      "execution_count": null
    },
    {
      "cell_type": "markdown",
      "source": [
        "# Model Parameters"
      ],
      "metadata": {}
    },
    {
      "outputs": [],
      "cell_type": "code",
      "source": [
        "# length of simulation, translated from months to days (model time scale)\nmonths = 6\ndays = months * CSR.DAYS_PER_MONTH\ntspan = (0, days*1.0);"
      ],
      "metadata": {},
      "execution_count": null
    },
    {
      "outputs": [],
      "cell_type": "code",
      "source": [
        "# assuming model time in days\n\n# cohort interaction, between 0 and 1\nα = 0.05 * ones(3, 3)\nα[1,1] = 1      # cohort 1\nα[2,2] = 1      # cohort 2\nα[3,3] = 1      # cohort 3\n\n# latent period, time between exposure time and beginning of infectious period\nσ = zeros(2)\nσ[1] = 1/(3)     # children, 3 days\nσ[2] = 1/(3)     # adults, 3 days\n\n# removal rate, 'recovery' from infectious state to non-infectious\nγ = zeros(2)\nγ[1] = 1/(4)    # child recovery rate, 4 days\nγ[2] = 1/(4)    # adult recovery rate, 4 days\n\n# baseline transmission rates\nβ0 = 1.5\nF = [\n    0.1     0.25    # child to j\n    0.15    0.5     # adult to j\n]\nβ = β0 * F\n\n# population: [children, adults]\ndemographics = [22., 78.]\ntotal_infected = 2.0\ninfected = [10., 90.]\n\nparams = (α, σ, γ);"
      ],
      "metadata": {},
      "execution_count": null
    },
    {
      "cell_type": "markdown",
      "source": [
        "# Definition of $\\mathcal{R}_{0}$\n\nThis function implements the formula for $\\mathcal{R}_{0}$ in our SEIR model.\nNote that latency parameters, $\\sigma_{1}$ and $\\sigma_{2}$, have no effect on the basic reproduction number unless there are deaths."
      ],
      "metadata": {}
    },
    {
      "outputs": [],
      "cell_type": "code",
      "source": [
        "function reproductive_number(u₀, α, β, σ, γ, μ=zero(γ))\n    m1 = 2           # number of infectious states\n    m2 = size(u₀, 3) # number of cohorts\n    m3 = size(u₀, 2) # number of age classes\n\n    # account for sizes of subclasses\n    # N[i,k] - proportion of individuals in age class i, cohort k\n    # so that sum(N) == 1\n    N = dropdims(sum(u₀, dims=1), dims=1)\n\n    # assemble transmission operator (new infections)\n    # within a single cohort k: x = [E1k, I1k, E2k, I2k]\n    # infections from from Ejk --> Ijk\n    # think in terms of basis vectors e_1, e_2, e_3, e_4, ...\n    F0 = zeros(m1*m3, m1*m3)\n    e = [1.0 * I(m1*m3)[:,j] for j in 1:m1*m3]\n\n    for j in 1:m3\n        jk = m1*(j-1) + 1\n        e_jk = e[jk]\n        # β is m3 × m3, \"permutation matrix\" should be m1 × m1*m3\n        F0 += kron(β[:,j], [zero(e_jk)'; e_jk'])'\n    end\n\n    # scale flows proportions of age-cohort groups relative to cohort size\n    D1 = Diagonal(vec( kron(vec(N), ones(m1)) ))\n    F1 = D1 * kron(ones(m2,m2), F0)\n\n    # tile cohort interactions across each age-cohort group\n    F2 = kron(α[1:m2,1:m2], ones(m1*m3, m1*m3))\n\n    # transmission operator is the element wise product\n    F = F1 .* F2\n\n    # assemble transition operator (flow of infections)\n    V0 = [\n        -σ[1]              0     0            0;\n         σ[1] -(γ[1] + μ[1])     0            0;\n            0              0  -σ[2]           0;\n            0              0   σ[2] -(γ[2]+μ[2])\n    ]\n    # tile across each cohort; no cross terms in this case\n    V = kron(I(m2), V0)\n\n    # compute R₀ as spectral radius of NGM (large domain)\n    R₀ = opnorm(-F * inv(V))\n\n    return R₀\nend"
      ],
      "metadata": {},
      "execution_count": null
    },
    {
      "cell_type": "markdown",
      "source": [
        "# Fig 1: Basic reproduction number as a function of transmission rates"
      ],
      "metadata": {}
    },
    {
      "outputs": [],
      "cell_type": "code",
      "source": [
        "# set ranges for proportion parameters, f_ij\nstep_size = 1e-2\nf_range = range(0.0, 1.0, step=step_size)\nf_length = length(f_range)\n\noffset = 0.1\n\n# separate array for varying baseline transmission rates\nglobal beta = copy(β)\n\n# storage arrays for barycentric coordinates\nnrows = 3\nncols = 3\na = Vector{Vector{Float64}}(undef, nrows)\nb = Vector{Vector{Float64}}(undef, nrows)\nc = Vector{Vector{Float64}}(undef, nrows)\n\n# storage arrays for data\nR₀ = Matrix{Vector{Float64}}(undef, nrows, ncols)"
      ],
      "metadata": {},
      "execution_count": null
    },
    {
      "cell_type": "markdown",
      "source": [
        "### Case: Child-Adult and Adult-Child contributions are symmetric"
      ],
      "metadata": {}
    },
    {
      "outputs": [],
      "cell_type": "code",
      "source": [
        "# figure out parameter values we will test\nj = 1\na[j] = Float64[]\nb[j] = Float64[]\nc[j] = Float64[]\nfor f11 in f_range, f22 in f_range\n    f12 = max(0, 0.5 * (1 - f11 - f22))\n    if f11 + f22 + 2*f12 == 1\n        # make sure coordinates sum to 1 to avoid normalization issues\n        push!(a[j], f11)\n        push!(b[j], f22)\n        push!(c[j], 2*f12)\n    end\nend\n\nfor k in 1:3\n    # define initial conditions\n    u₀ = define_initial_conditions(total_infected, demographics, 100*ones(k)/k, infected)\n\n    # make sure cohort interaction matrix has correct size\n    alpha = α[1:k,1:k]\n\n    R₀[j,k] = Float64[]\n    for (f11, f22, f12) in zip(a[j], b[j], c[j])\n        global beta = β0 * [f11 0.5*f12; 0.5*f12 f22]\n        R = reproductive_number(u₀, alpha, beta, σ, γ)\n\n        push!(R₀[j,k], R)\n    end\nend"
      ],
      "metadata": {},
      "execution_count": null
    },
    {
      "cell_type": "markdown",
      "source": [
        "### Case: Child-Adult and Adult-Child contributions are asymmetric"
      ],
      "metadata": {}
    },
    {
      "outputs": [],
      "cell_type": "code",
      "source": [
        "# figure out parameter values we will test\nj = 2\na[j] = Float64[]\nb[j] = Float64[]\nc[j] = Float64[]\nfor f12 in f_range, f21 in f_range, f22 in f_range\n    if f12 + f21 + f22 + offset == 1\n        # make sure coordinates sum to 1 to avoid normalization issues\n        push!(a[j], f12)\n        push!(b[j], f21)\n        push!(c[j], f22)\n    end\nend\n\nfor k in 1:3\n    # define initial conditions\n    u₀ = define_initial_conditions(total_infected, demographics, 100*ones(k)/k, infected)\n\n    # make sure cohort interaction matrix has correct size\n    alpha = α[1:k,1:k]\n\n    R₀[j,k] = Float64[]\n    for (f12, f21, f22) in zip(a[j], b[j], c[j])\n        f11 = 1 - f12 - f21 - f22\n        global beta = β0 * [f11 f12; f21 f22]\n        R = reproductive_number(u₀, alpha, beta, σ, γ)\n\n        push!(R₀[j,k], R)\n    end\nend\n\n# figure out parameter values we will test\nj = 3\na[j] = Float64[]\nb[j] = Float64[]\nc[j] = Float64[]\nfor f12 in f_range, f21 in f_range, f11 in f_range\n    if f12 + f21 + f11 + offset == 1\n        # make sure coordinates sum to 1 to avoid normalization issues\n        push!(a[j], f12)\n        push!(b[j], f21)\n        push!(c[j], f11)\n    end\nend\n\nfor k in 1:3\n    # define initial conditions\n    u₀ = define_initial_conditions(total_infected, demographics, 100*ones(k)/k, infected)\n\n    # make sure cohort interaction matrix has correct size\n    alpha = α[1:k,1:k]\n\n    R₀[j,k] = Float64[]\n    for (f12, f21, f11) in zip(a[j], b[j], c[j])\n        f22 = 1 - f12 - f21 - f11\n        global beta = β0 * [f11 f12; f21 f22]\n        R = reproductive_number(u₀, alpha, beta, σ, γ)\n\n        push!(R₀[j,k], R)\n    end\nend"
      ],
      "metadata": {},
      "execution_count": null
    },
    {
      "outputs": [],
      "cell_type": "code",
      "source": [
        "fig, axes = subplots(\n    figsize=[ncols*4, nrows*4.0],\n    nrows=nrows, ncols=ncols,\n    subplot_kw=Dict(\"projection\" => \"ternary\")\n)\n\ntitles = [\"1 cohort\", \"2 cohorts\", \"3 cohorts\"]\nimg = []\n\ntickset1 = string.( round.(β0*range(0.0, 1.0, length=6), digits=2) )\ntickset2 = string.( round.(β0*range(0.0, 0.5, length=6), digits=2) )\ntickset3 = string.( round.( (β0-offset)*range(0.0, 1.0, length=6), digits=2) )\n\ntlabels = [L\"\\beta_{11}\", L\"\\beta_{12}\", L\"\\beta_{12}\"]\nllabels = [L\"\\beta_{22}\", L\"\\beta_{21}\", L\"\\beta_{21}\"]\nrlabels = [L\"\\beta_{12} = \\beta_{21}\", L\"\\beta_{22}\", L\"\\beta_{11}\"]\n\nscalef = [1.0, 1-offset, 1-offset]\n\nRmax = round(maximum(maximum.(R₀)))\nlevels = 0:0.5:Rmax-1\ncmap = get_cmap(\"viridis\")\n\nglobal ct = 1\n\n# β11: C9\n# β22: C1\n# β12=β21: 0.0\n# β12: red\n# β21: 0.5\n\nfor j in 1:nrows, k in 1:ncols\n    ax = axes[j,k]\n\n    # top, left, right, value\n    push!(img, ax.tricontourf(scalef[j] * a[j], scalef[j] * b[j], scalef[j] * c[j], R₀[j,k], levels=levels, extend=\"max\", cmap=cmap))\n    ax.tricontour(a[j], b[j], c[j], R₀[j,k], levels=[1.0], colors=\"w\", linestyles=\"--\")\n\n    # axis labels and title\n    j == 1 && ax.set_title(titles[k], pad=20)\n    ax.set_tlabel(tlabels[j])\n    ax.set_llabel(llabels[j])\n    ax.set_rlabel(rlabels[j])\n\n    # color guides\n    lw = 1.2\n    ccolor = j == 1 ? \"C9\" : \"red\"\n    ax.grid(axis=\"t\", which=\"major\", linestyle=\":\", linewidth=lw)\n    ax.taxis.label.set_color(ccolor)\n    ax.taxis.set_tick_params(tick2On=true, colors=ccolor, grid_color=ccolor)\n\n    ccolor = j == 1 ? \"C1\" : \"0.5\"\n    ax.grid(axis=\"l\", which=\"major\", linestyle=\"--\", linewidth=lw)\n    ax.laxis.label.set_color(ccolor)\n    ax.laxis.set_tick_params(tick2On=true, colors=ccolor, grid_color=ccolor)\n\n    ccolor = j == 1 ? \"0.0\" : j == 2 ? \"C1\" : \"C9\"\n    ax.grid(axis=\"r\", which=\"major\", linestyle=\"-\", linewidth=lw)\n    ax.raxis.label.set_color(ccolor)\n    ax.raxis.set_tick_params(tick2On=true, colors=ccolor, grid_color=ccolor)\n\n    # set label positions\n    ax.taxis.set_label_position(\"tick1\")\n    ax.laxis.set_label_position(\"tick1\")\n    ax.raxis.set_label_position(\"tick1\")\n\n    # rotate ticks and labels\n    ax.tick_params(labelrotation=\"horizontal\")\n    ax.taxis.set_label_rotation_mode(\"horizontal\")\n    ax.laxis.set_label_rotation_mode(\"horizontal\")\n    ax.raxis.set_label_rotation_mode(\"horizontal\")\n\n    # axis ticks\n    if j == 1\n        ax.taxis.set_ticklabels(tickset1)\n        ax.laxis.set_ticklabels(tickset1)\n        ax.raxis.set_ticklabels(tickset2)\n    else\n        ax.taxis.set_ticklabels(tickset3)\n        ax.laxis.set_ticklabels(tickset3)\n        ax.raxis.set_ticklabels(tickset3)\n    end\n\n    # figure label\n    ax.text(0.0, 1.0, string('A'+ct-1), transform=ax.transAxes,\n      fontsize=16, fontweight=\"bold\", va=\"top\", ha=\"right\")\n    global ct += 1\nend\n\n# add annotations\nfig.text(0.85, -0.01, latexstring(\"\\\\beta_{0} = $(β0)\"), fontsize=14)\naxes[1].text(-0.15, 0.4, \"Symmetric\", rotation=90, transform=axes[1].transAxes, fontsize=14)\naxes[2].text(-0.15, 0.4, color=\"C9\", latexstring(\"\\\\beta_{11} = $(offset)\"), rotation=90, transform=axes[2].transAxes, fontsize=14)\naxes[3].text(-0.15, 0.4, color=\"C1\", latexstring(\"\\\\beta_{22} = $(offset)\"), rotation=90, transform=axes[3].transAxes, fontsize=14)\n\n# add colorbar\ncb_ax = fig.add_axes([0.26, 0.0, 0.5, 0.025])\ncbar = fig.colorbar(img[1], cax=cb_ax, orientation=\"horizontal\",\n    label=latexstring(L\"\\mathcal{R}_{0}\", \" for population\"),\n    ticks=0:Rmax\n)\n\nfig.tight_layout()\n\nPyPlot.savefig(\"../figures/Fig2.png\", dpi=300, bbox_inches=\"tight\")\nPyPlot.savefig(\"../figures/Fig2.tiff\", dpi=300, bbox_inches=\"tight\")\n\nfig"
      ],
      "metadata": {},
      "execution_count": null
    },
    {
      "cell_type": "markdown",
      "source": [
        "# Fig S2: Interaction between bulk transmission rate and demography"
      ],
      "metadata": {}
    },
    {
      "outputs": [],
      "cell_type": "code",
      "source": [
        "beta0_range = range(0, 2, length=51)\npercent_children = range(0, 100, length=51)\n\nm = length(beta0_range)\nn = length(percent_children)\n\n# separate array for varying baseline transmission rates\nbeta = copy(β)\n\n# storage arrays for data\nnrows = 1\nncols = 3\nR₀ = Matrix{Matrix{Float64}}(undef, nrows, ncols)"
      ],
      "metadata": {},
      "execution_count": null
    },
    {
      "outputs": [],
      "cell_type": "code",
      "source": [
        "l = 1\nfor k in 1:3\n    # make sure cohort interaction matrix has correct size\n    alpha = α[1:k,1:k]\n\n    R₀[l,k] = Matrix{Float64}(undef, m, n)\n    for (j, children) in enumerate(percent_children), (i, beta0) in enumerate(beta0_range)\n        temp = [children, 100 - children]\n        u₀ = define_initial_conditions(total_infected, temp, 100*ones(k)/k, infected)\n        global beta = beta0 * F\n        R = reproductive_number(u₀, alpha, beta, σ, γ)\n\n        R₀[l,k][i,j] = R\n    end\nend"
      ],
      "metadata": {},
      "execution_count": null
    },
    {
      "outputs": [],
      "cell_type": "code",
      "source": [
        "fig, axes = subplots(nrows=nrows,ncols=ncols,figsize=[3*4,4])\nfig.subplots_adjust(wspace=0.05)\nimg = []\n\nRmax = maximum(maximum.(R₀))\ntitle = [\"1 cohort\", \"2 cohorts\", \"3 cohorts\"]\n\nxrange = percent_children\nyrange = beta0_range\n\nfor (k, ax) in enumerate(axes)\n    push!(img, ax.contourf(xrange, yrange, R₀[k], levels=0:1:round(Rmax), extend=\"max\"))\n    ax.contour(xrange, yrange, R₀[k], levels=[1.0], colors=\"w\", linestyles=\"--\")\n    ax.grid(false)\n    ax.set_title(title[k])\n    ax.set_xlabel(\"Children in population (%)\")\n    ax.set_ylabel(latexstring(\"Bulk transmission rate, \", L\"\\beta_{0}\"))\n    ax.xaxis.set_ticks(xrange[1]:10:xrange[end])\n    # figure label\n    ax.text(-0.17, 1.02, string('A'+k-1), transform=ax.transAxes,\n        fontsize=16, fontweight=\"bold\", va=\"top\", ha=\"right\"\n    )\nend\n\ncb_ax = fig.add_axes([0.27, 0.0, 0.5, 0.025])\ncbar = fig.colorbar(img[1], cax=cb_ax, orientation=\"horizontal\",\n    label=latexstring(L\"\\mathcal{R}_{0}\", \" for population\"),\n    ticks=0:Rmax\n)\n\nfig.tight_layout()\n\nPyPlot.savefig(\"../figures/S2_fig.png\", dpi=300, bbox_inches=\"tight\")\nPyPlot.savefig(\"../figures/S2_fig.tiff\", dpi=300, bbox_inches=\"tight\")\n\nfig"
      ],
      "metadata": {},
      "execution_count": null
    },
    {
      "cell_type": "markdown",
      "source": [
        "# Fig S3: Basic reproduction number as a function of infection period"
      ],
      "metadata": {}
    },
    {
      "outputs": [],
      "cell_type": "code",
      "source": [
        "# set ranges for latency parameters, σ_i\nstep_size = 5e-2\nchild_infectious_range = range(0, 7, step=step_size)\nadult_infectious_range = range(0, 7, step=step_size)\n\n# assume adult-adult and child-adult transmission are significant\nbeta = β0 * [\n    0.1     0.25    # child to j\n    0.15    0.5     # adult to j\n]\n\n# coordinates for plots\nxrange = child_infectious_range\nyrange = adult_infectious_range\n\n# storage arrays for data\nnrows = 1\nncols = 3\nR₀ = Matrix{Matrix{Float64}}(undef, nrows, ncols)"
      ],
      "metadata": {},
      "execution_count": null
    },
    {
      "outputs": [],
      "cell_type": "code",
      "source": [
        "l = 1\nfor k in 1:3\n    # define initial conditions\n    u₀ = define_initial_conditions(total_infected, demographics, 100*ones(k)/k, infected)\n\n    # make sure cohort interaction matrix has correct size\n    alpha = α[1:k,1:k]\n\n    R₀[l,k] = Matrix{Float64}(undef, length(yrange), length(xrange))\n    for (j, γ1) in enumerate(xrange), (i, γ2) in enumerate(yrange)\n        gamma = 1 ./ [γ1, γ2]\n        R₀[l,k][i,j] = reproductive_number(u₀, alpha, beta, σ, gamma)\n    end\nend\n\nfig, axes = subplots(nrows=nrows,ncols=ncols,figsize=[3*4,4])\nfig.subplots_adjust(wspace=0.05)\nimg = []\n\nRmax = maximum(maximum.(R₀))\ntitle = [\"1 cohort\", \"2 cohorts\", \"3 cohorts\"]\n\nfor (k, ax) in enumerate(axes)\n    push!(img, ax.contourf(xrange, yrange, R₀[k], levels=0:0.5:6, extend=\"max\"))\n    ax.contour(xrange, yrange, R₀[k], levels=[1.0], colors=\"w\", linestyles=\"--\")\n    ax.grid(false)\n    ax.set_title(title[k])\n    ax.set_xlabel(latexstring(\"Child infection period, \", L\"1 / \\gamma_{1}\"))\n    ax.set_ylabel(latexstring(\"Adult infection period, \", L\"1 / \\gamma_{2}\"))\n    ax.xaxis.set_ticks(xrange[1]:1:xrange[end])\n    ax.set_aspect(1)\n\n    # figure label\n    ax.text(-0.09, 1.02, string('A'+k-1), transform=ax.transAxes,\n        fontsize=16, fontweight=\"bold\", va=\"top\", ha=\"right\"\n    )\nend\n\ncb_ax = fig.add_axes([0.27, 0.0, 0.5, 0.025])\ncbar = fig.colorbar(img[1], cax=cb_ax, orientation=\"horizontal\",\n    label=latexstring(L\"\\mathcal{R}_{0}\", \" for population\"),\n    ticks=0:Rmax\n)\n\nfig.tight_layout()\n\nPyPlot.savefig(\"../figures/S3_fig.png\", dpi=300, bbox_inches=\"tight\")\nPyPlot.savefig(\"../figures/S3_fig.tiff\", dpi=300, bbox_inches=\"tight\")\n\nfig"
      ],
      "metadata": {},
      "execution_count": null
    },
    {
      "cell_type": "markdown",
      "source": [
        "# Appendix"
      ],
      "metadata": {}
    },
    {
      "outputs": [],
      "cell_type": "code",
      "source": [
        "PyPlot.close_figs()"
      ],
      "metadata": {},
      "execution_count": null
    },
    {
      "outputs": [],
      "cell_type": "code",
      "source": [
        "using InteractiveUtils; versioninfo()"
      ],
      "metadata": {},
      "execution_count": null
    },
    {
      "outputs": [],
      "cell_type": "code",
      "source": [
        "using Pkg; Pkg.status()"
      ],
      "metadata": {},
      "execution_count": null
    }
  ],
  "nbformat_minor": 2,
  "metadata": {
    "language_info": {
      "file_extension": ".jl",
      "mimetype": "application/julia",
      "name": "julia",
      "version": "1.5.3"
    },
    "kernelspec": {
      "name": "julia-1.5",
      "display_name": "Julia 1.5.3",
      "language": "julia"
    }
  },
  "nbformat": 4
}
