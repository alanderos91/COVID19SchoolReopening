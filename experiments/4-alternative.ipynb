{
  "cells": [
    {
      "cell_type": "markdown",
      "source": [
        "# Packages"
      ],
      "metadata": {}
    },
    {
      "outputs": [],
      "cell_type": "code",
      "source": [
        "using LinearAlgebra\nusing DifferentialEquations, DiffEqCallbacks\nusing COVID19SchoolReopening\nusing ProgressMeter\nusing PyPlot, LaTeXStrings\n\nconst CSR = COVID19SchoolReopening\n\nrcParams = PyPlot.PyDict(PyPlot.matplotlib.\"rcParams\")\nrcParams[\"axes.grid\"] = true\nrcParams[\"font.size\"] = 12"
      ],
      "metadata": {},
      "execution_count": null
    },
    {
      "cell_type": "markdown",
      "source": [
        "# Model Parameters"
      ],
      "metadata": {}
    },
    {
      "outputs": [],
      "cell_type": "code",
      "source": [
        "# length of simulation, translated from months to days (model time scale)\nmonths = 6\ndays = months * CSR.DAYS_PER_MONTH\nweeks = Int(round(Int, days / 7))\ntspan = (0, days*1.0);"
      ],
      "metadata": {},
      "execution_count": null
    },
    {
      "outputs": [],
      "cell_type": "code",
      "source": [
        "# assuming model time in days\n\n# cohort interaction, between 0 and 1\nα = 0.05 * ones(3, 3)\nα[1,1] = 1      # cohort 1\nα[2,2] = 1      # cohort 2\nα[3,3] = 1      # cohort 3\n\n# latent period, time between exposure time and beginning of infectious period\nσ = zeros(2)\nσ[1] = 1/(3)     # children, 3 days\nσ[2] = 1/(3)     # adults, 3 days\n\n# removal rate, 'recovery' from infectious state to non-infectious\nγ = zeros(2)\nγ[1] = 1/(4)    # child recovery rate, 4 days\nγ[2] = 1/(4)    # adult recovery rate, 4 days\n\n# baseline transmission rates\nβ0 = 1.2\nF = [\n    0.1     0.25    # child to j\n    0.15    0.5     # adult to j\n]\nβ = β0 * F\n\n# population: [children, adults]\ndemographics = [22., 78.]\ntotal_infected = 2.0\ninfected = [10., 90.]\n\nparams = (α, σ, γ);"
      ],
      "metadata": {},
      "execution_count": null
    },
    {
      "outputs": [],
      "cell_type": "code",
      "source": [
        "function get_compartment(u, i, j)\n    c = zero(eltype(u))\n    for k in 1:size(u, 3)\n        c += max(0, u[i,j,k])\n    end\n    return c\nend\n\ninfected_child_fraction(u) = get_compartment(u, 3, 1)\nremoved_child_fraction(u) = get_compartment(u, 4, 1)\ncumulative_child_fraction(u) = infected_child_fraction(u) + removed_child_fraction(u)\n\ninfected_adult_fraction(u) = get_compartment(u, 3, 2)\nremoved_adult_fraction(u) = get_compartment(u, 4, 2)\ncumulative_adult_fraction(u) = infected_adult_fraction(u) + removed_adult_fraction(u)\n\nscale_percent(t, x) = (t, scale_percent(x))\nscale_percent(x) = x * 100\n\n# recording data\nfunction record_figure_data!(data, sol, detected, threshold, window, test_times, demographics)\n    # shorthand\n    q = demographics / sum(demographics)\n    ts = sol.t\n    u = sol.u\n\n    # find threshold time\n    x = [ sum(detected[max(1,i-window):i]) for i in eachindex(detected) ]\n    index = findfirst(≥(q[1]*threshold), x)\n    t_thresh = isnothing(index) ? Inf : test_times[index]\n\n    # time points in solution\n    push!(data.ts, sol.t)\n\n    # child data\n    push!(data.child_school_I,  scale_percent.(sol[3,1,1,:]) ./ q[1])\n    push!(data.child_remote_I,  scale_percent.(sol[3,1,2,:]) ./ q[1])\n    push!(data.child_school_S,  scale_percent.(sol[1,1,1,:]) ./ q[1])\n    push!(data.child_remote_S,  scale_percent.(sol[1,1,2,:]) ./ q[1])\n    push!(data.child_detected,  scale_percent.(x) ./ q[1])\n\n    push!(data.adult_school_I,  scale_percent.(sol[3,2,1,:]) ./ q[2])\n    push!(data.adult_remote_I,  scale_percent.(sol[3,2,2,:]) ./ q[2])\n    push!(data.adult_school_S,  scale_percent.(sol[1,2,1,:]) ./ q[2])\n    push!(data.adult_remote_S,  scale_percent.(sol[1,2,2,:]) ./ q[2])\n\n    push!(data.t_thresh,        t_thresh)\n\n    return nothing\nend"
      ],
      "metadata": {},
      "execution_count": null
    },
    {
      "cell_type": "markdown",
      "source": [
        "# Fig 5: Alternative cohort structure\n\nTwo cohorts: one attends school, the other opts for remote learning.\nThe in-person cohort has an elevated child-to-child transmission rate."
      ],
      "metadata": {}
    },
    {
      "outputs": [],
      "cell_type": "code",
      "source": [
        "# policy parameters\nthreshold = 0.05\nsensitivity_tested = [1.0, 0.5]\nwindow = 14\n\n# simulation parameters\nnclasses = 2\nncohorts = 2\n\nmultiplier = 10.0\n\n# testing times - school days only; applies to active cohort\nschool_days = 1:1.0:5\ntest_times = [(day-1) + 7*(week-1) for week in 1:weeks for day in school_days];"
      ],
      "metadata": {},
      "execution_count": null
    },
    {
      "outputs": [],
      "cell_type": "code",
      "source": [
        "# allocate outputs\ndata = (\n    ts                = Vector{Float64}[], # time axis\n    child_school_I    = Vector{Float64}[], # I_11\n    child_remote_I    = Vector{Float64}[], # I_12\n    child_school_S    = Vector{Float64}[], # S_11\n    child_remote_S    = Vector{Float64}[], # S_12\n    child_detected    = Vector{Float64}[], # 14-window criterion\n    adult_school_I    = Vector{Float64}[], # I_21\n    adult_remote_I    = Vector{Float64}[], # I_22\n    adult_school_S    = Vector{Float64}[], # S_21\n    adult_remote_S    = Vector{Float64}[], # S_22\n    t_thresh          = Float64[],         # threshold time\n)\n\n# closure to make things easier\nrecord_figure_data!(data, sol, detected) = record_figure_data!(data, sol, detected, threshold, window, test_times, demographics)\n\n# no intervention\nprob = make_model_instance(nclasses, ncohorts, tspan, β, params,\n    mult=multiplier,\n    demographics=demographics,\n    total_infected=total_infected,\n    infected=infected,\n)\n\n# only the first cohort attends school in person\ncohort_β = prob.p[4]\n\n# cohort 1 --- in-person\nratef = cohort_β[1][1,1]\ncohort_β[1][1,1] = TransmissionRate(ratef.cmax, ratef.cmin, ratef.start, ratef.stop, K=ratef.K)\n\n# cohort 2 --- remote learning\nratef = cohort_β[2][1,1]\ncohort_β[2][1,1] = TransmissionRate(ratef.cmin, ratef.cmin, ratef.start, ratef.stop, K=ratef.K)\n\n# run simulation\ndetected_cases = Float64[]\nsol = solve(prob)\n\n# record data\nrecord_figure_data!(data, sol, detected_cases)\n\n# with intervention, perfect detection\ndetected_cases = Float64[]\ncb_test, cb_threshold, cbs = make_threshold_policy_callbacks(test_times, detected_cases,\n    sensitivity=sensitivity_tested[1],\n    isrotating=false,\n    threshold=threshold,\n    window=window,\n)\nprob = make_model_instance(nclasses, ncohorts, tspan, β, params,\n    mult=multiplier,\n    demographics=demographics,\n    total_infected=total_infected,\n    infected=infected,\n)\n\n# only the first cohort attends school in person\ncohort_β = prob.p[4]\n\n# cohort 1 --- in-person\nratef = cohort_β[1][1,1]\ncohort_β[1][1,1] = TransmissionRate(ratef.cmax, ratef.cmin, ratef.start, ratef.stop, K=ratef.K)\n\n# cohort 2 --- remote learning\nratef = cohort_β[2][1,1]\ncohort_β[2][1,1] = TransmissionRate(ratef.cmin, ratef.cmin, ratef.start, ratef.stop, K=ratef.K)\n\n# run simulation\nsol = solve(prob, callback=cbs, userdata=Dict(:school_closed=>false))\n\n# record data\nrecord_figure_data!(data, sol, detected_cases)\n\n# with intervention, 50% detection\ndetected_cases = Float64[]\ncb_test, cb_threshold, cbs = make_threshold_policy_callbacks(test_times, detected_cases,\n    sensitivity=sensitivity_tested[2],\n    isrotating=false,\n    threshold=threshold,\n    window=window,\n)\n\nprob = make_model_instance(nclasses, ncohorts, tspan, β, params,\n    mult=multiplier,\n    demographics=demographics,\n    total_infected=total_infected,\n    infected=infected,\n)\n\n# only the first cohort attends school in person\ncohort_β = prob.p[4]\n\n# cohort 1 --- in-person\nratef = cohort_β[1][1,1]\ncohort_β[1][1,1] = TransmissionRate(ratef.cmax, ratef.cmin, ratef.start, ratef.stop, K=ratef.K)\n\n# cohort 2 --- remote learning\nratef = cohort_β[2][1,1]\ncohort_β[2][1,1] = TransmissionRate(ratef.cmin, ratef.cmin, ratef.start, ratef.stop, K=ratef.K)\n\n# run simulation\nsol = solve(prob, callback=cbs, userdata=Dict(:school_closed=>false))\n\n# record data\nrecord_figure_data!(data, sol, detected_cases)"
      ],
      "metadata": {},
      "execution_count": null
    },
    {
      "outputs": [],
      "cell_type": "code",
      "source": [
        "# background\nrcParams[\"axes.grid\"] = false\nrcParams[\"axes.facecolor\"] = \"0.90\"\n\nfig, ax = subplots(figsize=[14.0, 6.0], nrows=2, ncols=3)\n\nfig.add_subplot(frameon=false)\nplt.tick_params(labelcolor=\"none\", top=false, bottom=false, left=false, right=false)\nplt.xlabel(\"Weeks after reopening\")\nplt.ylabel(\"Proportion (%)\", labelpad=20)\n\ncommon_xticks = 0:14:tspan[end] # show every two weeks\ncommon_xtickl = string.(Int.(common_xticks .÷ 7))\n\nymin = 0.0\nymax = 8.0\n\n#\n#   i = 1: no intervention\n#   i = 2: 100% sensitivity\n#   i = 3: 50% sensitivity\n#\nfor i in eachindex(data.ts)\n    # 1,1 -- infections in children in school cohort\n    x = data.child_detected[i]\n    ax[1].plot(data.ts[i], data.child_school_I[i], \"-\", color=\"C$(i-1)\", lw=3)\n    ax[1].plot(test_times[1:length(x)], x, \"--\", color=\"C$(i-1)\", lw=3)\n    (i > 1) && ax[1].axvline(data.t_thresh[i], linestyle=\":\", color=\"C$(i-1)\")\n\n    # 2,1 -- infections in adults in school cohort\n    ax[2].plot(data.ts[i], data.adult_school_I[i], \"-\", color=\"C$(i-1)\", lw=3)\n    (i > 1) && ax[2].axvline(data.t_thresh[i], linestyle=\":\", color=\"C$(i-1)\")\n\n    # 1,2 -- infections in children in home cohort\n    ax[3].plot(data.ts[i], data.child_remote_I[i], \"-\", color=\"C$(i-1)\", lw=3)\n    (i > 1) && ax[3].axvline(data.t_thresh[i], linestyle=\":\", color=\"C$(i-1)\")\n\n    # 2,2 -- infections in adults in home cohort\n    ax[4].plot(data.ts[i], data.adult_remote_I[i], \"-\", color=\"C$(i-1)\", lw=3)\n    (i > 1) && ax[4].axvline(data.t_thresh[i], linestyle=\":\", color=\"C$(i-1)\")\n\n    # 1,3 -- susceptible children\n    y = data.child_school_S[i] + data.child_remote_S[i]\n    ax[5].plot(data.ts[i], y, \"-\", color=\"C$(i-1)\", lw=3)\n    (i > 1) && ax[5].axvline(data.t_thresh[i], linestyle=\":\", color=\"C$(i-1)\")\n\n    # 2,3 -- susceptible adults\n    y = data.adult_school_S[i] + data.adult_remote_S[i]\n    ax[6].plot(data.ts[i], y, \"-\", color=\"C$(i-1)\", lw=3)\n    (i > 1) && ax[6].axvline(data.t_thresh[i], linestyle=\":\", color=\"C$(i-1)\")\nend\n\nfor i in eachindex(ax)\n    ax[i].xaxis.set_ticks(common_xticks)\n    ax[i].xaxis.set_ticklabels(common_xtickl)\n\n    if i ≥ 5\n        ax[i].set_ylim(75, 100)\n    else\n        ax[i].set_ylim(0, 1.5)\n    end\nend\n\n# set labels for rows\nax[1].set_ylabel(\"Children\")\nax[2].set_ylabel(\"Adults\")\n\n# set labels for columns\nax[1].set_title(\"School cohort\")\nax[3].set_title(\"Remote cohort\")\nax[5].set_title(\"Susceptibles (combined)\")\n\n# add figure legend\nartist_c0 = plt.Line2D((0,1), (0,0), color=\"C0\")\nartist_c1 = plt.Line2D((0,1), (0,0), color=\"C1\")\nartist_c2 = plt.Line2D((0,1), (0,0), color=\"C2\")\n\nartist_solid = plt.Line2D((0,1), (0,0), color=\"k\", linestyle=\"-\")\nartist_dash = plt.Line2D((0,1), (0,0), color=\"k\", linestyle=\"--\")\n\nfig.legend(\n    (artist_c0, artist_c1, artist_c2, artist_solid, artist_dash),\n    (\"no intervention\", \"100% detection\", \"50% detection\", latexstring(L\"I(t)\", \" / \", L\"S(t)\"), \"detected\"),\n    bbox_to_anchor=(0.21,0.0,0.5,0),\n    loc=\"lower left\",\n    borderaxespad=0.0,\n    frameon=false,\n    ncol=5)\nfig.subplots_adjust(bottom=0.09)\n\n# add labels to each subplot\nreindex = [1, 4, 2, 5, 3, 6]\nfor i in eachindex(ax)\n    ax[i].text(-0.04, 1.15, string('A'+(reindex[i]-1)), transform=ax[i].transAxes,\n      fontsize=16, fontweight=\"bold\", va=\"top\", ha=\"right\")\n    ax[i].grid(axis=\"y\")\nend\n\nfig.tight_layout()\n\nPyPlot.savefig(\"../figures/Fig5.png\", dpi=300, bbox_inches=\"tight\")\nPyPlot.savefig(\"../figures/Fig5.tiff\", dpi=300, bbox_inches=\"tight\")\n\nfig"
      ],
      "metadata": {},
      "execution_count": null
    },
    {
      "cell_type": "markdown",
      "source": [
        "# Appendix"
      ],
      "metadata": {}
    },
    {
      "outputs": [],
      "cell_type": "code",
      "source": [
        "PyPlot.close_figs()"
      ],
      "metadata": {},
      "execution_count": null
    },
    {
      "outputs": [],
      "cell_type": "code",
      "source": [
        "using InteractiveUtils; versioninfo()"
      ],
      "metadata": {},
      "execution_count": null
    },
    {
      "outputs": [],
      "cell_type": "code",
      "source": [
        "using Pkg; Pkg.status()"
      ],
      "metadata": {},
      "execution_count": null
    }
  ],
  "nbformat_minor": 2,
  "metadata": {
    "language_info": {
      "file_extension": ".jl",
      "mimetype": "application/julia",
      "name": "julia",
      "version": "1.5.3"
    },
    "kernelspec": {
      "name": "julia-1.5",
      "display_name": "Julia 1.5.3",
      "language": "julia"
    }
  },
  "nbformat": 4
}
