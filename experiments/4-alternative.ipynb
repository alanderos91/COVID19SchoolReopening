{
  "cells": [
    {
      "cell_type": "markdown",
      "source": [
        "# Packages"
      ],
      "metadata": {}
    },
    {
      "outputs": [],
      "cell_type": "code",
      "source": [
        "using LinearAlgebra\nusing DifferentialEquations, DiffEqCallbacks\nusing COVID19SchoolReopening\nusing ProgressMeter\nusing PyPlot, LaTeXStrings\n\nconst CSR = COVID19SchoolReopening\n\nrcParams = PyPlot.PyDict(PyPlot.matplotlib.\"rcParams\")\nrcParams[\"axes.grid\"] = true\nrcParams[\"font.size\"] = 12"
      ],
      "metadata": {},
      "execution_count": null
    },
    {
      "cell_type": "markdown",
      "source": [
        "# Model Parameters"
      ],
      "metadata": {}
    },
    {
      "outputs": [],
      "cell_type": "code",
      "source": [
        "# length of simulation, translated from months to days (model time scale)\nmonths = 6\ndays = months * CSR.DAYS_PER_MONTH\nweeks = Int(round(Int, days / 7))\ntspan = (0, days*1.0);"
      ],
      "metadata": {},
      "execution_count": null
    },
    {
      "outputs": [],
      "cell_type": "code",
      "source": [
        "# assuming model time in days\n\n# cohort interaction, between 0 and 1\nα = 0.05 * ones(3, 3)\nα[1,1] = 1      # cohort 1\nα[2,2] = 1      # cohort 2\nα[3,3] = 1      # cohort 3\n\n# latent period, time between exposure time and beginning of infectious period\nσ = zeros(2)\nσ[1] = 1/(3)     # children, 3 days\nσ[2] = 1/(3)     # adults, 3 days\n\n# removal rate, 'recovery' from infectious state to non-infectious\nγ = zeros(2)\nγ[1] = 1/(4)    # child recovery rate, 4 days\nγ[2] = 1/(4)    # adult recovery rate, 4 days\n\n# baseline transmission rates\nβ0 = 1.2\nF = [\n    0.1     0.25    # child to j\n    0.15    0.5     # adult to j\n]\nβ = β0 * F\n\n# population: [children, adults]\ndemographics = [22., 78.]\ntotal_infected = 2.0\ninfected = [10., 90.]\n\nparams = (α, σ, γ);"
      ],
      "metadata": {},
      "execution_count": null
    },
    {
      "outputs": [],
      "cell_type": "code",
      "source": [
        "function get_compartment(u, i, j)\n    c = zero(eltype(u))\n    for k in 1:size(u, 3)\n        c += max(0, u[i,j,k])\n    end\n    return c\nend\n\ninfected_child_fraction(u) = get_compartment(u, 3, 1)\nremoved_child_fraction(u) = get_compartment(u, 4, 1)\ncumulative_child_fraction(u) = infected_child_fraction(u) + removed_child_fraction(u)\n\ninfected_adult_fraction(u) = get_compartment(u, 3, 2)\nremoved_adult_fraction(u) = get_compartment(u, 4, 2)\ncumulative_adult_fraction(u) = infected_adult_fraction(u) + removed_adult_fraction(u)\n\nscale_percent(t, x) = (t, scale_percent(x))\nscale_percent(x) = x * 100"
      ],
      "metadata": {},
      "execution_count": null
    },
    {
      "cell_type": "markdown",
      "source": [
        "# Fig 5: Alternative cohort structure\n\nTwo cohorts: one attends school, the other opts for remote learning.\nThe in-person cohort has an elevated child-to-child transmission rate."
      ],
      "metadata": {}
    },
    {
      "outputs": [],
      "cell_type": "code",
      "source": [
        "# policy parameters\nthreshold = 0.05\nsensitivity_tested = [1.0, 0.5]\nwindow = 14\n\n# simulation parameters\nnclasses = 2\nncohorts = 2\n\nmultiplier = 10.0\n\n# testing times - school days only; applies to active cohort\nschool_days = 1:1.0:5\ntest_times = [(day-1) + 7*(week-1) for week in 1:weeks for day in school_days]"
      ],
      "metadata": {},
      "execution_count": null
    },
    {
      "outputs": [],
      "cell_type": "code",
      "source": [
        "# allocate outputs\nsolution = []\nchild_detected = []\n\n# no intervention\nprob = make_model_instance(nclasses, ncohorts, tspan, β, params,\n    mult=multiplier,\n    demographics=demographics,\n    total_infected=total_infected,\n    infected=infected,\n)\n\n# only the first cohort attends school in person\ncohort_β = prob.p[4]\n\n# cohort 1 --- in-person\nratef = cohort_β[1][1,1]\ncohort_β[1][1,1] = TransmissionRate(ratef.cmax, ratef.cmin, ratef.start, ratef.stop, K=ratef.K)\n\n# cohort 2 --- remote learning\nratef = cohort_β[2][1,1]\ncohort_β[2][1,1] = TransmissionRate(ratef.cmin, ratef.cmin, ratef.start, ratef.stop, K=ratef.K)\n\ndetected_cases = Float64[]\nsol = solve(prob, saveat=1.0)\npush!(solution, sol)\npush!(child_detected,   detected_cases / (demographics[1] / 100) * 100)\n\n# with intervention, perfect detection\ndetected_cases = Float64[]\ncb_test, cb_threshold, cbs = make_threshold_policy_callbacks(test_times, detected_cases,\n    sensitivity=sensitivity_tested[1],\n    isrotating=false,\n    threshold=threshold,\n    window=window,\n)\nprob = make_model_instance(nclasses, ncohorts, tspan, β, params,\n    mult=multiplier,\n    demographics=demographics,\n    total_infected=total_infected,\n    infected=infected,\n)\n\n# only the first cohort attends school in person\ncohort_β = prob.p[4]\n\n# cohort 1 --- in-person\nratef = cohort_β[1][1,1]\ncohort_β[1][1,1] = TransmissionRate(ratef.cmax, ratef.cmin, ratef.start, ratef.stop, K=ratef.K)\n\n# cohort 2 --- remote learning\nratef = cohort_β[2][1,1]\ncohort_β[2][1,1] = TransmissionRate(ratef.cmin, ratef.cmin, ratef.start, ratef.stop, K=ratef.K)\n\nsol = solve(prob, saveat=1.0, callback=cbs, userdata=Dict(:school_closed=>false))\npush!(solution, sol)\npush!(child_detected,   detected_cases / (demographics[1] / 100) * 100)\n\n# with intervention, 50% detection\ndetected_cases = Float64[]\ncb_test, cb_threshold, cbs = make_threshold_policy_callbacks(test_times, detected_cases,\n    sensitivity=sensitivity_tested[2],\n    isrotating=false,\n    threshold=threshold,\n    window=window,\n)\n\nprob = make_model_instance(nclasses, ncohorts, tspan, β, params,\n    mult=multiplier,\n    demographics=demographics,\n    total_infected=total_infected,\n    infected=infected,\n)\n\n# only the first cohort attends school in person\ncohort_β = prob.p[4]\n\n# cohort 1 --- in-person\nratef = cohort_β[1][1,1]\ncohort_β[1][1,1] = TransmissionRate(ratef.cmax, ratef.cmin, ratef.start, ratef.stop, K=ratef.K)\n\n# cohort 2 --- remote learning\nratef = cohort_β[2][1,1]\ncohort_β[2][1,1] = TransmissionRate(ratef.cmin, ratef.cmin, ratef.start, ratef.stop, K=ratef.K)\n\nsol = solve(prob, saveat=1.0, callback=cbs, userdata=Dict(:school_closed=>false))\n\npush!(solution, sol)\npush!(child_detected,   detected_cases / (demographics[1] / 100) * 100)"
      ],
      "metadata": {},
      "execution_count": null
    },
    {
      "outputs": [],
      "cell_type": "code",
      "source": [
        "# background\nrcParams[\"axes.grid\"] = false\nrcParams[\"axes.facecolor\"] = \"0.90\"\n\nfig, ax = subplots(figsize=[2*4.0, 2*4.0], nrows=3, ncols=2)\n\nymin = 0.0\nymax = 14.0\n\ncommon_xticks = 0:14:tspan[end] # show every two weeks\ncommon_yticks = 0:2:ymax\ncommon_xtickl = string.(Int.(common_xticks .÷ 7))\n\n##### no intervention ####\nu0 = prob.u0\nq = dropdims(sum(prob.u0, dims=(1,3)), dims=(1,3))\n\nscenario = solution[1]\nts = scenario.t\nchild_school = (scenario[3,1,1,:] .+ scenario[4,1,1,:]) * 100 / q[1]\nchild_remote = (scenario[3,1,2,:] .+ scenario[4,1,2,:]) * 100 / q[1]\nadult_school = (scenario[3,2,1,:] .+ scenario[4,2,1,:]) * 100 / q[2]\nadult_remote = (scenario[3,2,2,:] .+ scenario[4,2,2,:]) * 100 / q[2]\n\n# children\nax[1].plot(ts, child_school, label=\"in-person\")\nax[1].plot(ts, child_remote, label=\"remote\")\nax[1].hlines(threshold * 100, ts[1], ts[end], linestyles=\"--\", label=\"threshold\")\n\nax[1].set_title(\"Children (no intervention)\")\nax[1].set_xticks(common_xticks)\nax[1].set_yticks(common_yticks)\nax[1].set_xticklabels(common_xtickl)\nax[1].set_ylim(ymin, ymax)\n\n# adults\nax[4].plot(ts, adult_school)\nax[4].plot(ts, adult_remote)\n\nax[4].set_title(\"Adults (no intervention)\")\nax[4].set_xticks(common_xticks)\nax[4].set_yticks(common_yticks)\nax[4].set_xticklabels(common_xtickl)\nax[4].set_ylim(ymin, ymax)\n\n##### shutdown when threshold is hit, perfect detection ####\nu0 = prob.u0\nq = dropdims(sum(prob.u0, dims=(1,3)), dims=(1,3))\n\nscenario = solution[2]\nts = scenario.t\nchild_school = (scenario[3,1,1,:] .+ scenario[4,1,1,:]) * 100 / q[1]\nchild_remote = (scenario[3,1,2,:] .+ scenario[4,1,2,:]) * 100 / q[1]\nadult_school = (scenario[3,2,1,:] .+ scenario[4,2,1,:]) * 100 / q[2]\nadult_remote = (scenario[3,2,2,:] .+ scenario[4,2,2,:]) * 100 / q[2]\n\n# find time that we hit threshold\nx = [sum(child_detected[2][max(1,i-window+1):i]) for i in eachindex(child_detected[2])]\nindex = findfirst(≥(threshold * 100), x)\nif !isnothing(index)\n    t_thresh = test_times[index]\n    ax[2].vlines(t_thresh, ymin, ymax, linestyles=\":\")\nend\n\n# children\nax[2].plot(ts, child_school)\nax[2].plot(ts, child_remote)\nax[2].plot(test_times, x, linestyle=\":\", label=\"detected\", lw=2)\nax[2].hlines(threshold * 100, ts[1], ts[end], linestyles=\"--\")\n\nax[2].set_title(\"Children (100% detection)\")\nax[2].set_xticks(common_xticks)\nax[2].set_yticks(common_yticks)\nax[2].set_xticklabels(common_xtickl)\nax[2].set_ylim(ymin, ymax)\nax[2].set_ylabel(\"Population (%)\")\n\n# adults\nax[5].plot(ts, adult_school)\nax[5].plot(ts, adult_remote)\n\nax[5].set_title(\"Adults (100% detection)\")\nax[5].set_xticks(common_xticks)\nax[5].set_yticks(common_yticks)\nax[5].set_xticklabels(common_xtickl)\nax[5].set_ylim(ymin, ymax)\nax[5].set_ylabel(\"Population (%)\")\n\n##### shutdown when threshold is hit, 50% detection ####\nu0 = prob.u0\nq = dropdims(sum(prob.u0, dims=(1,3)), dims=(1,3))\n\nscenario = solution[3]\nts = scenario.t\nchild_school = (scenario[3,1,1,:] .+ scenario[4,1,1,:]) * 100 / q[1]\nchild_remote = (scenario[3,1,2,:] .+ scenario[4,1,2,:]) * 100 / q[1]\nadult_school = (scenario[3,2,1,:] .+ scenario[4,2,1,:]) * 100 / q[2]\nadult_remote = (scenario[3,2,2,:] .+ scenario[4,2,2,:]) * 100 / q[2]\n\n# find time that we hit threshold\nx = [sum(child_detected[3][max(1,i-window+1):i]) for i in eachindex(child_detected[3])]\nindex = findfirst(≥(threshold * 100), x)\nif !isnothing(index)\n    t_thresh = test_times[index]\n    ax[2].vlines(t_thresh, ymin, ymax, linestyles=\":\")\nend\n\n# children\nax[3].plot(ts, child_school)\nax[3].plot(ts, child_remote)\nax[3].plot(test_times, x, linestyle=\":\", lw=2)\nax[3].hlines(threshold * 100, ts[1], ts[end], linestyles=\"--\")\n\nax[3].set_title(\"Children (50% detection)\")\nax[3].set_xlabel(\"Weeks after reopening\")\nax[3].set_xticks(common_xticks)\nax[3].set_yticks(common_yticks)\nax[3].set_xticklabels(common_xtickl)\nax[3].set_ylim(ymin, ymax)\n\n# adults\nax[6].plot(ts, adult_school)\nax[6].plot(ts, adult_remote)\n\nax[6].set_title(\"Adults (50% detection)\")\nax[6].set_xlabel(\"Weeks after reopening\")\nax[6].set_xticks(common_xticks)\nax[6].set_yticks(common_yticks)\nax[6].set_xticklabels(common_xtickl)\nax[6].set_ylim(ymin, ymax)\n\n# add figure legend\nfig.legend(\n    bbox_to_anchor=(0.15,0,1.02,0),\n    loc=\"lower left\",\n    borderaxespad=0,\n    frameon=false,\n    ncol=4)\nfig.tight_layout()\nfig.subplots_adjust(bottom=0.09)\n\n# add labels to each panel\nreindex = [1,3,5,2,4,6]\nfor i in eachindex(ax)\n    ax[i].text(-0.1, 1.15, string('A'+(reindex[i]-1)), transform=ax[i].transAxes,\n      fontsize=16, fontweight=\"bold\", va=\"top\", ha=\"right\")\n    ax[i].grid(axis=\"y\")\nend\n\nPyPlot.savefig(\"../figures/Fig5.png\", dpi=300, bbox_inches=\"tight\")\nPyPlot.savefig(\"../figures/Fig5.tiff\", dpi=300, bbox_inches=\"tight\")\n\nfig"
      ],
      "metadata": {},
      "execution_count": null
    },
    {
      "cell_type": "markdown",
      "source": [
        "# Appendix"
      ],
      "metadata": {}
    },
    {
      "outputs": [],
      "cell_type": "code",
      "source": [
        "PyPlot.close_figs()"
      ],
      "metadata": {},
      "execution_count": null
    },
    {
      "outputs": [],
      "cell_type": "code",
      "source": [
        "using InteractiveUtils; versioninfo()"
      ],
      "metadata": {},
      "execution_count": null
    },
    {
      "outputs": [],
      "cell_type": "code",
      "source": [
        "using Pkg; Pkg.status()"
      ],
      "metadata": {},
      "execution_count": null
    }
  ],
  "nbformat_minor": 2,
  "metadata": {
    "language_info": {
      "file_extension": ".jl",
      "mimetype": "application/julia",
      "name": "julia",
      "version": "1.5.3"
    },
    "kernelspec": {
      "name": "julia-1.5",
      "display_name": "Julia 1.5.3",
      "language": "julia"
    }
  },
  "nbformat": 4
}
