{
  "cells": [
    {
      "cell_type": "markdown",
      "source": [
        "# Packages"
      ],
      "metadata": {}
    },
    {
      "outputs": [],
      "cell_type": "code",
      "source": [
        "using LinearAlgebra\nusing DifferentialEquations, DiffEqCallbacks\nusing COVID19SchoolReopening\nusing ProgressMeter\nusing PyPlot, LaTeXStrings\n\nconst CSR = COVID19SchoolReopening\n\nrcParams = PyPlot.PyDict(PyPlot.matplotlib.\"rcParams\")\nrcParams[\"axes.grid\"] = true\nrcParams[\"font.size\"] = 12"
      ],
      "metadata": {},
      "execution_count": null
    },
    {
      "cell_type": "markdown",
      "source": [
        "# Model Parameters"
      ],
      "metadata": {}
    },
    {
      "outputs": [],
      "cell_type": "code",
      "source": [
        "# length of simulation, translated from months to days (model time scale)\nmonths = 6\ndays = months * CSR.DAYS_PER_MONTH\nweeks = Int(round(Int, days / 7))\ntspan = (0, days*1.0);"
      ],
      "metadata": {},
      "execution_count": null
    },
    {
      "outputs": [],
      "cell_type": "code",
      "source": [
        "# assuming model time in days\n\n# cohort interaction, between 0 and 1\nα = 0.05 * ones(3, 3)\nα[1,1] = 1      # cohort 1\nα[2,2] = 1      # cohort 2\nα[3,3] = 1      # cohort 3\n\n# latent period, time between exposure time and beginning of infectious period\nσ = zeros(2)\nσ[1] = 1/(3)     # children, 3 days\nσ[2] = 1/(3)     # adults, 3 days\n\n# removal rate, 'recovery' from infectious state to non-infectious\nγ = zeros(2)\nγ[1] = 1/(4)    # child recovery rate, 4 days\nγ[2] = 1/(4)    # adult recovery rate, 4 days\n\n# baseline transmission rates\nβ0 = 1.2\nF = [\n    0.1     0.25    # child to j\n    0.15    0.5     # adult to j\n]\nβ = β0 * F\n\n# population: [children, adults]\ndemographics = [22., 78.]\ntotal_infected = 2.0\ninfected = [10., 90.]\n\nparams = (α, σ, γ);"
      ],
      "metadata": {},
      "execution_count": null
    },
    {
      "outputs": [],
      "cell_type": "code",
      "source": [
        "# helper functions to make some of the later code easier to read\nfunction get_compartment(u, i, j)\n    c = zero(eltype(u))\n\n    # iterate over cohorts\n    for k in 1:size(u, 3)\n        c += max(0, u[i,j,k])\n    end\n    return c\nend\n\ninfected_child_fraction(u) = get_compartment(u, 3, 1)\nremoved_child_fraction(u) = get_compartment(u, 4, 1)\ncumulative_child_fraction(u) = infected_child_fraction(u) + removed_child_fraction(u)\n\ninfected_adult_fraction(u) = get_compartment(u, 3, 2)\nremoved_adult_fraction(u) = get_compartment(u, 4, 2)\ncumulative_adult_fraction(u) = infected_adult_fraction(u) + removed_adult_fraction(u)\n\nscale_percent(t, x) = (t, scale_percent(x))\nscale_percent(x) = x * 100"
      ],
      "metadata": {},
      "execution_count": null
    },
    {
      "cell_type": "markdown",
      "source": [
        "# Fig 6: Transmission mitigation"
      ],
      "metadata": {}
    },
    {
      "outputs": [],
      "cell_type": "code",
      "source": [
        "##### simulation parameters #####\n\n# reduction for adults, fixed to 40%\ns = 0.4\n\nbeta = copy(β)\nbeta[2,1] *= (1-s)\nbeta[2,2] *= (1-s)\n\n# account for increased school contacts\nmultiplier = 10.0\n\n# reduction for children\nreduction = [0.0, 0.2, 0.4, 0.6, 0.8]"
      ],
      "metadata": {},
      "execution_count": null
    },
    {
      "outputs": [],
      "cell_type": "code",
      "source": [
        "##### figure options #####\ncommon_xticks = 0:14:tspan[end]\ncommon_xtickl = string.(Int.(common_xticks .÷ 7))\nrcParams[\"axes.grid\"] = false\nrcParams[\"axes.facecolor\"] = \"0.90\"\n\n#\n# ===== one cohort =====\n#\n# R₀ approx. ? under parameter choices whenever children are at home\n# R₀ approx. ? when children attend schools (effect of multiplier)\n#\nnclasses = 2\nncohorts = 1\n\nfig, ax = subplots(figsize=[2*4.0, 1.5*4.0], nrows=2, ncols=2)\n\n# inset1 = ax[1].inset_axes([0.125, 0.5, 0.3, 0.4])\n# inset2 = ax[3].inset_axes([0.125, 0.5, 0.3, 0.4])\n#\n# inset1.grid(axis=\"y\")\n# inset2.grid(axis=\"y\")\n\nfor r in reduction\n    beta[1,1] = β[1,1] * (1-r)\n    beta[1,2] = β[1,2] * (1-r)\n    prob = make_model_instance(nclasses, ncohorts, tspan, beta, params,\n        mult=multiplier,\n        demographics=demographics,\n        total_infected=total_infected,\n        infected=infected,\n    )\n    q = dropdims(sum(prob.u0, dims=(1,3)), dims=(1,3))\n    sol = solve(prob, saveat=1.0)\n\n    # top left panel\n    children = scale_percent(cumulative_child_fraction.(sol.u)) / q[1]\n    ax[1].plot(sol.t, children, label=\"$(100*r)%\")\n\n    ymax = 50\n\n    ax[1].set_title(\"Children (1 cohort)\")\n    ax[1].set_xticks(common_xticks)\n    ax[1].set_xticklabels(common_xtickl)\n    # ax[1].set_ylabel(\"Cumulative cases (%)\")\n    ax[1].set_yticks(0:10:ymax)\n    ax[1].set_ylim(0, ymax)\n\n    # inset\n    # inset1.plot(sol.t, children, label=\"$(100*r)%\")\n    # inset1.set_xlim(sol.t[1], sol.t[end])\n    # inset1.set_ylim(0, 2.0)\n    # inset1.set_xticks(common_xticks)\n    # inset1.set_yticks(0.0:0.5:2.0)\n    # inset1.set_xticklabels(\"\")\n\n    # top right panel\n    adults = scale_percent(cumulative_adult_fraction.(sol.u)) / q[2]\n    ax[3].plot(sol.t, adults)\n    ax[3].set_title(\"Adults (1 cohort)\")\n    ax[3].set_xticks(common_xticks)\n    ax[3].set_xticklabels(common_xtickl)\n    # ax[3].set_ylabel(\"Cumulative cases (%)\")\n    ax[3].set_yticks(0:10:ymax)\n    ax[3].set_ylim(0, ymax)\n\n    # inset2.plot(sol.t, adults, label=\"$(100*r)%\")\n    # inset2.set_xlim(sol.t[1], sol.t[end])\n    # inset2.set_ylim(0, 2.0)\n    # inset2.set_xticks(common_xticks)\n    # inset2.set_yticks(0.0:0.5:2.0)\n    # inset2.set_xticklabels(\"\")\n\n    println(\"1 cohort, $(r*100)% reduction\")\n    index = findfirst(isequal(4*7), sol.t)\n    println(\"1 month:  $(children[index]), $(adults[index])\")\n    index = findfirst(isequal(3*4*7), sol.t)\n    println(\"3 months: $(children[index]), $(adults[index])\")\n    index = findfirst(isequal(6*4*7), sol.t)\n    println(\"6 months: $(children[index]), $(adults[index])\")\n    println()\nend\n\n# ax[1].indicate_inset_zoom(inset1)\n# ax[3].indicate_inset_zoom(inset2)\n\n#\n# ===== two cohorts =====\n#\n# R₀ approx. ? under parameter choices whenever children are at home\n# R₀ approx. ? when children attend schools (effect of multiplier)\n#\nnclasses = 2\nncohorts = 2\n\nfor r in reduction\n    beta[1,1] = β[1,1] * (1-r)\n    beta[1,2] = β[1,2] * (1-r)\n    prob = make_model_instance(nclasses, ncohorts, tspan, beta, params,\n        mult=multiplier,\n        demographics=demographics,\n        total_infected=total_infected,\n        infected=infected,\n    )\n    q = dropdims(sum(prob.u0, dims=(1,3)), dims=(1,3))\n    sol = solve(prob, saveat=1.0)\n\n    # bottom left panel\n    children = scale_percent(cumulative_child_fraction.(sol.u)) / q[1]\n    ax[2].plot(sol.t, children)\n\n    ymax = 7.0\n\n    ax[2].set_title(\"Children (2 cohorts)\")\n    ax[2].set_xlabel(\"Weeks after reopening\")\n    ax[2].set_xticks(common_xticks)\n    ax[2].set_xticklabels(common_xtickl)\n    ax[2].set_ylabel(\"Cumulative cases (%)\")\n    ax[2].set_yticks(0:1:ymax)\n    ax[2].set_ylim(0, ymax)\n\n    # bottom right panel\n    adults = scale_percent(cumulative_adult_fraction.(sol.u)) / q[2]\n    ax[4].plot(sol.t, adults)\n\n    ax[4].set_title(\"Adults (2 cohorts)\")\n    ax[4].set_xlabel(\"Weeks after reopening\")\n    ax[4].set_xticks(common_xticks)\n    ax[4].set_xticklabels(common_xtickl)\n    ax[4].set_ylabel(\"Cumulative cases (%)\")\n    ax[4].set_yticks(0:1:ymax)\n    ax[4].set_ylim(0, ymax)\n\n    println(\"2 cohorts, $(r*100)% reduction\")\n    index = findfirst(isequal(4*7), sol.t)\n    println(\"1 month:  $(children[index]), $(adults[index])\")\n    index = findfirst(isequal(3*4*7), sol.t)\n    println(\"3 months: $(children[index]), $(adults[index])\")\n    index = findfirst(isequal(6*4*7), sol.t)\n    println(\"6 months: $(children[index]), $(adults[index])\")\n    println()\nend\n\n# add legend\nreduction_labels = [string(Int(r*100), \"%\") for r in reduction]\n\nfig.legend(\n    reduction_labels,\n    title=latexstring(\"Reduction in transmission; \", L\"\\beta_{11}, \\beta_{12}\"),\n    bbox_to_anchor=(0.17,0,1.02,0),\n    loc=\"lower left\",\n    # borderaxespad=-0.2,\n    frameon=false,\n    ncol=5)\nfig.tight_layout()\nfig.subplots_adjust(bottom=0.175)\n\n# add labels to each panel\nreindex = [1,3,2,4]\nfor i in eachindex(ax)\n    ax[i].text(-0.0, 1.15, string('A'+(reindex[i]-1)), transform=ax[i].transAxes,\n      fontsize=16, fontweight=\"bold\", va=\"top\", ha=\"right\")\n    ax[i].grid(axis=\"y\")\nend\n\nPyPlot.savefig(\"../figures/Fig6.png\", dpi=300, bbox_inches=\"tight\")\nPyPlot.savefig(\"../figures/Fig6.tiff\", dpi=300, bbox_inches=\"tight\")\n\nfig"
      ],
      "metadata": {},
      "execution_count": null
    },
    {
      "cell_type": "markdown",
      "source": [
        "# Appendix"
      ],
      "metadata": {}
    },
    {
      "outputs": [],
      "cell_type": "code",
      "source": [
        "PyPlot.close_figs()"
      ],
      "metadata": {},
      "execution_count": null
    },
    {
      "outputs": [],
      "cell_type": "code",
      "source": [
        "using InteractiveUtils; versioninfo()"
      ],
      "metadata": {},
      "execution_count": null
    },
    {
      "outputs": [],
      "cell_type": "code",
      "source": [
        "using Pkg; Pkg.status()"
      ],
      "metadata": {},
      "execution_count": null
    }
  ],
  "nbformat_minor": 2,
  "metadata": {
    "language_info": {
      "file_extension": ".jl",
      "mimetype": "application/julia",
      "name": "julia",
      "version": "1.5.3"
    },
    "kernelspec": {
      "name": "julia-1.5",
      "display_name": "Julia 1.5.3",
      "language": "julia"
    }
  },
  "nbformat": 4
}
