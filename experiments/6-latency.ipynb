{
  "cells": [
    {
      "outputs": [],
      "cell_type": "code",
      "source": [
        "using LinearAlgebra\nusing DifferentialEquations, DiffEqCallbacks\nusing COVID19SchoolReopening\nusing ProgressMeter\nusing PyPlot, LaTeXStrings\n\nconst CSR = COVID19SchoolReopening\n\nrcParams = PyPlot.PyDict(PyPlot.matplotlib.\"rcParams\")\nrcParams[\"axes.grid\"] = true\nrcParams[\"font.size\"] = 12"
      ],
      "metadata": {},
      "execution_count": null
    },
    {
      "cell_type": "markdown",
      "source": [
        "# Model Parameters"
      ],
      "metadata": {}
    },
    {
      "outputs": [],
      "cell_type": "code",
      "source": [
        "# length of simulation, translated from months to days (model time scale)\nmonths = 6\ndays = months * CSR.DAYS_PER_MONTH\nweeks = Int(round(Int, days / 7))\ntspan = (0, days*1.0);"
      ],
      "metadata": {},
      "execution_count": null
    },
    {
      "outputs": [],
      "cell_type": "code",
      "source": [
        "# assuming model time in days\n\n# cohort interaction, between 0 and 1\nα = 0.05 * ones(3, 3)\nα[1,1] = 1      # cohort 1\nα[2,2] = 1      # cohort 2\nα[3,3] = 1      # cohort 3\n\n# latent period, time between exposure time and beginning of infectious period\nσ = zeros(2)\nσ[1] = 1/(3)     # children, 3 days\nσ[2] = 1/(3)     # adults, 3 days\n\n# removal rate, 'recovery' from infectious state to non-infectious\nγ = zeros(2)\nγ[1] = 1/(4)    # child recovery rate, 4 days\nγ[2] = 1/(4)    # adult recovery rate, 4 days\n\n# baseline transmission rates\nβ0 = 1.5\nF = [\n    0.1     0.25    # child to j\n    0.15    0.5     # adult to j\n]\nβ = β0 * F\n\n# population: [children, adults]\ndemographics = [22., 78.]\ntotal_infected = 2.0\ninfected = [10., 90.]\n\nparams = (α, σ, γ);"
      ],
      "metadata": {},
      "execution_count": null
    },
    {
      "cell_type": "markdown",
      "source": [
        "# Fig S7: Sensitivity to latency period in children"
      ],
      "metadata": {}
    },
    {
      "outputs": [],
      "cell_type": "code",
      "source": [
        "# testing sensitivity, policy threshold, and window size\nsensitivity = 1.0\nthreshold = 0.05\nwindow = 14\n\n# assume order of magnitude increase in child-child contact\nmultiplier = 10.0\n\n# testing times - school days only; applies to active cohort\nschool_days = 1:1.0:5\ntest_times = [(day-1) + 7*(week-1) + 1 for week in 1:weeks for day in school_days]\n\n# set range for parameters to vary\nchild_latency = range(1, 14, step=0.1)\nmultiplier_range = [1, 2, 10]"
      ],
      "metadata": {},
      "execution_count": null
    },
    {
      "outputs": [],
      "cell_type": "code",
      "source": [
        "# setup and allocations for output\nxrange = multiplier_range\nyrange = child_latency\n\nm = length(yrange)\nn = length(xrange)\n\nnclasses = 2\nncohorts = 3\n\nt_thresh = [zeros(m, n) for _ in 1:ncohorts+1]\n\n# scenario parameters\nisrotating = true\n\nfor k in 1:ncohorts\n    # generate problems with different parameter values\n    prob_matrix = Array{Any}(undef, m, n)\n    alpha = α[1:k,1:k]\n\n    for (j, mult) in enumerate(xrange), (i, sigma1) in enumerate(yrange)\n        p = (alpha, [1 / sigma1, σ[2]], γ)\n        prob_matrix[i,j] = make_model_instance(nclasses, k, tspan, β, p,\n            mult=mult,\n            demographics=demographics,\n            total_infected=total_infected,\n            infected=infected,\n        )\n    end\n\n    #\n    # solve the ODE for different parameter values\n    # save data for each day\n    #\n    @showprogress \"Simulation for $(k) cohort(s)... \" for (ix, prob) in enumerate(prob_matrix)\n        detected = sizehint!(Float64[], length(test_times))\n        cb_test = make_testing_policy_callback(test_times, detected,\n            sensitivity=sensitivity,\n            isrotating=isrotating,\n        )\n        sol = solve(prob, callback=cb_test, userdata=Dict(:school_closed=>false))\n\n        # extract 14-day window infection data\n        offset = window-1\n        x = [ sum(detected[max(1,i-window):i]) for i in eachindex(detected) ]\n\n        # find time to hit threshold\n        index = findfirst(≥(demographics[1]/sum(demographics)*threshold), x)\n        t_thresh[k][ix] = isnothing(index) ? tspan[end] : test_times[index]\n    end\nend"
      ],
      "metadata": {},
      "execution_count": null
    },
    {
      "outputs": [],
      "cell_type": "code",
      "source": [
        "isrotating = false\n\n# generate problems with different parameter values\nprob_matrix = Array{Any}(undef, m, n)\nalpha = α[1:2,1:2]\n\nfor (j, mult) in enumerate(xrange), (i, sigma1) in enumerate(yrange)\n    p = (alpha, [1 / sigma1, σ[2]], γ)\n    prob_matrix[i,j] = make_model_instance(nclasses, 2, tspan, β, p,\n        mult=mult,\n        demographics=demographics,\n        total_infected=total_infected,\n        infected=infected,\n    )\nend\n\n#\n# solve the ODE for different parameter values\n# save data for each day\n#\n@showprogress \"Simulation for 2 parallel cohorts... \" for (ix, prob) in enumerate(prob_matrix)\n    # only the first cohort attends school in person\n    cohort_β = prob.p[4]\n\n    # cohort 1 --- in-person\n    ratef = cohort_β[1][1,1]\n    cohort_β[1][1,1] = TransmissionRate(ratef.cmax, ratef.cmin, ratef.start, ratef.stop, K=ratef.K)\n\n    # cohort 2 --- remote learning\n    ratef = cohort_β[2][1,1]\n    cohort_β[2][1,1] = TransmissionRate(ratef.cmin, ratef.cmin, ratef.start, ratef.stop, K=ratef.K)\n\n    # run the simulation\n    detected = sizehint!(Float64[], length(test_times))\n    cb_test = make_testing_policy_callback(test_times, detected,\n        sensitivity=sensitivity,\n        isrotating=isrotating,\n    )\n    sol = solve(prob, callback=cb_test, userdata=Dict(:school_closed=>false))\n\n    # extract 14-day window infection data\n    offset = window-1\n    x = [ sum(detected[max(1,i-window):i]) for i in eachindex(detected) ]\n\n    # find time to hit threshold\n    index = findfirst(≥(demographics[1]/sum(demographics)*threshold), x)\n    t_thresh[4][ix] = isnothing(index) ? tspan[end] : test_times[index]\nend"
      ],
      "metadata": {},
      "execution_count": null
    },
    {
      "outputs": [],
      "cell_type": "code",
      "source": [
        "# background\nrcParams[\"axes.grid\"] = false\nrcParams[\"axes.facecolor\"] = \"0.90\"\n\nfig, axes = subplots(nrows=2, ncols=2, figsize=[8, 8])\nlinestyle = [\"-\", \"--\", \":\"]\ntitlestr = [\"1 cohort\", \"2 cohorts (rotating)\", \"3 cohorts\", \"2 cohorts (parallel)\"]\n\nfig.add_subplot(frameon=false)\nplt.tick_params(labelcolor=\"none\", top=false, bottom=false, left=false, right=false)\nplt.xlabel(latexstring(\"Child latency period, \", L\"1 / \\sigma_{1}\", \" (days)\"))\nplt.ylabel(\"Weeks after reopening\")\n\nreindex = [1,3,2,4]\n\nfor (k, ax) in enumerate(axes)\n    for j in 1:length(multiplier_range)\n        data = @views t_thresh[reindex[k]][:,j] ./ 7\n        ix = findfirst(<(26), data)\n        ax.plot(child_latency, data, linestyle=linestyle[j], lw=2.5)\n        # if !isnothing(ix)\n        #     ax.scatter(infected_range[ix], data[ix], marker=\"x\", color=\"k\", s=128.0)\n        # end\n    end\n    # set x axis\n    ax.xaxis.set_ticks(0:2:14)\n\n    # modify y axis to reflect truncated data\n    ax.grid(axis=\"y\")\n    ax.set_ylim(0, 27)\n    ax.yaxis.set_ticks(0:2:26)\n    ax.yaxis.set_ticklabels([string.(0:2:24); \">26\"])\n\n    # set labels\n    ax.set_title(titlestr[reindex[k]])\n\n    # panel labels\n    ax.text(-0.04, 1.075, string('A'+(reindex[k]-1)), transform=ax.transAxes,\n      fontsize=16, fontweight=\"bold\", va=\"top\", ha=\"right\")\nend\n\nfig.legend(\n    title=\"Contact multiplier\",\n    [L\"\\times~\" * \"$(c)\" for c in multiplier_range],\n    bbox_to_anchor=(0.35, -0.05, 1.02, 0),\n    loc=\"lower left\",\n    borderaxespad=0,\n    frameon=false,\n    ncol=3)\nfig.tight_layout()\n\nPyPlot.savefig(\"../figures/S7_fig.png\", dpi=300, bbox_inches=\"tight\")\nPyPlot.savefig(\"../figures/S7_fig.tiff\", dpi=300, bbox_inches=\"tight\")\n\nfig"
      ],
      "metadata": {},
      "execution_count": null
    },
    {
      "cell_type": "markdown",
      "source": [
        "# Appendix"
      ],
      "metadata": {}
    },
    {
      "outputs": [],
      "cell_type": "code",
      "source": [
        "PyPlot.close_figs()"
      ],
      "metadata": {},
      "execution_count": null
    },
    {
      "outputs": [],
      "cell_type": "code",
      "source": [
        "using InteractiveUtils; versioninfo()"
      ],
      "metadata": {},
      "execution_count": null
    },
    {
      "outputs": [],
      "cell_type": "code",
      "source": [
        "using Pkg; Pkg.status()"
      ],
      "metadata": {},
      "execution_count": null
    }
  ],
  "nbformat_minor": 2,
  "metadata": {
    "language_info": {
      "file_extension": ".jl",
      "mimetype": "application/julia",
      "name": "julia",
      "version": "1.5.3"
    },
    "kernelspec": {
      "name": "julia-1.5",
      "display_name": "Julia 1.5.3",
      "language": "julia"
    }
  },
  "nbformat": 4
}
